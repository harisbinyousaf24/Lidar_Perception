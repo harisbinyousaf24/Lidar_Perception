{
 "cells": [
  {
   "cell_type": "code",
   "execution_count": 25,
   "id": "d64f439f",
   "metadata": {},
   "outputs": [],
   "source": [
    "import numpy as np\n",
    "import json\n",
    "import os\n",
    "import math\n",
    "import plotly.graph_objects as go\n",
    "import plotly.io as pio\n",
    "import utm\n",
    "import matplotlib.pyplot as plt"
   ]
  },
  {
   "cell_type": "markdown",
   "id": "dd8f83a5",
   "metadata": {},
   "source": [
    "## Input Paths"
   ]
  },
  {
   "cell_type": "code",
   "execution_count": 26,
   "id": "95e3023a",
   "metadata": {},
   "outputs": [],
   "source": [
    "poses_file = '/home/maanz/Downloads/DGV/LidarPipeline_runs/hamburg/odometry/results/latest/frames_poses.npy'\n",
    "json_file = '/home/maanz/Downloads/DGV/LidarPipeline_runs/hamburg/data/gnss.json'\n"
   ]
  },
  {
   "cell_type": "markdown",
   "id": "8e959a22",
   "metadata": {},
   "source": [
    "## Parameters"
   ]
  },
  {
   "cell_type": "code",
   "execution_count": 27,
   "id": "a551e14a",
   "metadata": {},
   "outputs": [],
   "source": [
    "frame_index = -1\n",
    "rot_offset = 0\n",
    "use_heading_from = 'gps'\n",
    "manual_heading = 5\n",
    "use_manual_georef = True\n",
    "georef_start = [52.478412, 13.337873]\n",
    "# georef_last = [48.171280, 11.596481]"
   ]
  },
  {
   "cell_type": "markdown",
   "id": "d897ec47",
   "metadata": {},
   "source": [
    "## Read and Load Data"
   ]
  },
  {
   "cell_type": "code",
   "execution_count": 28,
   "id": "421742fd",
   "metadata": {},
   "outputs": [],
   "source": [
    "def load_states(file):\n",
    "    data = np.load(file)\n",
    "    translations = []\n",
    "    for tf in data:\n",
    "        translation = tf[:3, 3]\n",
    "        translations.append(translation)\n",
    "        \n",
    "    return data, np.array(translations)"
   ]
  },
  {
   "cell_type": "code",
   "execution_count": 29,
   "id": "992ea86b",
   "metadata": {},
   "outputs": [],
   "source": [
    "def read_gps(file):\n",
    "    with open(file, 'r') as json_file:\n",
    "        data = json.load(json_file)\n",
    "        \n",
    "    lat = np.array(data['latitude'])\n",
    "    lon = np.array(data['longitude'])\n",
    "    alt = np.array(data['altitude'])\n",
    "    \n",
    "    data = np.column_stack((lat, lon, alt))\n",
    "    return data"
   ]
  },
  {
   "cell_type": "code",
   "execution_count": 30,
   "id": "532031f0",
   "metadata": {},
   "outputs": [
    {
     "name": "stdout",
     "output_type": "stream",
     "text": [
      "[52.4783677 13.3378847 78.106    ]\n"
     ]
    }
   ],
   "source": [
    "GPS_global = read_gps(json_file)\n",
    "print(GPS_global[0])\n",
    "GPS_local = convert_global_to_local(GPS_global)\n",
    "ODOM_poses, ODOM_translations = load_states(poses_file)"
   ]
  },
  {
   "cell_type": "markdown",
   "id": "c716fd9b",
   "metadata": {},
   "source": [
    "## Plotting"
   ]
  },
  {
   "cell_type": "code",
   "execution_count": 31,
   "id": "04b91723",
   "metadata": {},
   "outputs": [],
   "source": [
    "def plot(filename1: str, traj: list):\n",
    "    def lat_lng_bounds(latitudes, longitudes):\n",
    "        min_lat, max_lat = min(latitudes), max(latitudes)\n",
    "        min_lng, max_lng = min(longitudes), max(longitudes)\n",
    "        return min_lat, min_lng, max_lat, max_lng\n",
    "\n",
    "    def map_center_and_zoom(min_lat, min_lng, max_lat, max_lng):\n",
    "        center_lat = (min_lat + max_lat) / 2\n",
    "        center_lng = (min_lng + max_lng) / 2\n",
    "\n",
    "        lat_diff = max_lat - min_lat\n",
    "        lng_diff = max_lng - min_lng\n",
    "\n",
    "        zoom_lat = math.log(180 / lat_diff) / math.log(2)\n",
    "        zoom_lng = math.log(360 / lng_diff) / math.log(2)\n",
    "\n",
    "        zoom = min(zoom_lat, zoom_lng)\n",
    "        return center_lat, center_lng, zoom\n",
    "\n",
    "    traces = []\n",
    "    all_latitudes = []\n",
    "    all_longitudes = []\n",
    "\n",
    "    for t in traj:\n",
    "        name, mat = t\n",
    "        latitudes = mat[:, 0]\n",
    "        longitudes = mat[:, 1]\n",
    "        all_latitudes.extend(latitudes)\n",
    "        all_longitudes.extend(longitudes)\n",
    "        trace = go.Scattermapbox(\n",
    "            lon=longitudes,\n",
    "            lat=latitudes,\n",
    "            mode='markers',\n",
    "            marker=go.scattermapbox.Marker(size=8),\n",
    "            name=name\n",
    "        )\n",
    "        traces.append(trace)\n",
    "\n",
    "    min_lat, min_lng, max_lat, max_lng = lat_lng_bounds(all_latitudes, all_longitudes)\n",
    "    center_lat, center_lng, zoom = map_center_and_zoom(min_lat, min_lng, max_lat, max_lng)\n",
    "\n",
    "    fig = go.Figure(traces)\n",
    "\n",
    "    fig.update_layout(\n",
    "        mapbox=dict(\n",
    "            # Replace with your Mapbox access token\n",
    "            accesstoken='pk.eyJ1IjoiaGFyaXNiaW55b3VzYWYiLCJhIjoiY2xsMXpkcGNoMDlqZDNrcDZrbjdrNHZnNyJ9.nXLa2DYKp8vNfzxbJRokAQ',\n",
    "            center=dict(lat=center_lat, lon=center_lng),\n",
    "            zoom=zoom,\n",
    "            style='satellite'\n",
    "        ),\n",
    "        margin=dict(l=0, r=0, t=0, b=0),\n",
    "        legend=dict(x=0, y=1, bgcolor='rgba(255, 255, 255, 0.5)')\n",
    "    )\n",
    "    pio.write_html(fig, file=filename1)"
   ]
  },
  {
   "cell_type": "markdown",
   "id": "7c570e63",
   "metadata": {},
   "source": [
    "## Translation"
   ]
  },
  {
   "cell_type": "code",
   "execution_count": 32,
   "id": "a9fe3646",
   "metadata": {},
   "outputs": [],
   "source": [
    "def compute_offset(georef):\n",
    "    lat, lon = georef\n",
    "    utm_x, utm_y, zone_num, zone_letter = utm.from_latlon(lat, lon)\n",
    "    array = np.array([utm_x, utm_y])\n",
    "    offset = [array, zone_num, zone_letter]\n",
    "    return offset"
   ]
  },
  {
   "cell_type": "code",
   "execution_count": 33,
   "id": "c0575773",
   "metadata": {},
   "outputs": [],
   "source": [
    "def decide_georeferencing():\n",
    "    if use_manual_georef:\n",
    "        offset = compute_offset(georef_start)\n",
    "        return offset\n",
    "    else:\n",
    "        latlon_gps = GPS_global[:, :2]\n",
    "        offset = compute_offset(latlon_gps[0])\n",
    "        return offset"
   ]
  },
  {
   "cell_type": "code",
   "execution_count": 34,
   "id": "d616fb61",
   "metadata": {},
   "outputs": [],
   "source": [
    "def convert_global_to_local(gps_data):\n",
    "    latlon_gps = gps_data[:, :2]\n",
    "    offset = compute_offset(latlon_gps[0])\n",
    "    offset = offset[0]\n",
    "    utm_mat = []\n",
    "    for lat, lon in latlon_gps:\n",
    "        ux, uy, _, _ = utm.from_latlon(lat, lon)\n",
    "        utm_arr = np.array([ux, uy])\n",
    "        utm_mat.append(utm_arr)\n",
    "        \n",
    "    utm_mat = np.array(utm_mat)\n",
    "    local_mat = utm_mat - offset\n",
    "    \n",
    "    return local_mat"
   ]
  },
  {
   "cell_type": "code",
   "execution_count": 35,
   "id": "af135eed",
   "metadata": {},
   "outputs": [],
   "source": [
    "def convert_local_to_global(local_data, offset):\n",
    "    local_data = local_data[:, :2]\n",
    "    utm_x, utm_y = offset[0]\n",
    "    zone_num = offset[1]\n",
    "    zone_letter = offset[2]\n",
    "    global_mat = []\n",
    "    for local_x, local_y in local_data:\n",
    "        utm_X, utm_Y = local_x + utm_x, local_y + utm_y\n",
    "        lat_x, lat_y = utm.to_latlon(utm_X, utm_Y, zone_num, zone_letter)\n",
    "        lat_arr = np.array([lat_x, lat_y])\n",
    "        global_mat.append(lat_arr)\n",
    "        \n",
    "    global_mat = np.array(global_mat)\n",
    "    \n",
    "    return global_mat"
   ]
  },
  {
   "cell_type": "markdown",
   "id": "0a98110b",
   "metadata": {},
   "source": [
    "## Rotation"
   ]
  },
  {
   "cell_type": "code",
   "execution_count": 36,
   "id": "37f5fab2",
   "metadata": {},
   "outputs": [],
   "source": [
    "def rot_matrix(heading_angle):\n",
    "    angle_radians = np.radians(heading_angle)\n",
    "    rotation_matrix = np.array([[np.cos(angle_radians), -np.sin(angle_radians), 0, 0],\n",
    "                                [np.sin(angle_radians), np.cos(angle_radians), 0, 0],\n",
    "                                [0, 0, 1, 0],\n",
    "                                [0, 0, 0, 1]])\n",
    "    return rotation_matrix"
   ]
  },
  {
   "cell_type": "code",
   "execution_count": 37,
   "id": "c57eb73e",
   "metadata": {},
   "outputs": [],
   "source": [
    "def compute_angle(local_gps, odom_data, frame_idx):\n",
    "    poses_data = odom_data[:, :2]\n",
    "    gps_data = local_gps[:, :2]\n",
    "    \n",
    "    tangent_gps = gps_data[frame_idx] - gps_data[0]\n",
    "    tangent_lidar = poses_data[frame_idx] - poses_data[0]\n",
    "\n",
    "    tangent_gps_norm = tangent_gps / np.linalg.norm(tangent_gps)\n",
    "    tangent_lidar_norm = tangent_lidar / np.linalg.norm(tangent_lidar)\n",
    "\n",
    "    dot_product = np.dot(tangent_gps_norm, tangent_lidar_norm)\n",
    "    dot_product = np.clip(dot_product, -1.0, 1.0)\n",
    "    angle_radians = np.arccos(dot_product)\n",
    "    sign = np.sign(tangent_gps[0] * tangent_lidar[1] - tangent_gps[1] * tangent_lidar[0])\n",
    "    angle_radians = sign * angle_radians\n",
    "    angle_degrees = np.degrees(angle_radians)\n",
    "    angle_degrees = -1*angle_degrees\n",
    "    \n",
    "    return angle_degrees"
   ]
  },
  {
   "cell_type": "code",
   "execution_count": 38,
   "id": "9dca2193",
   "metadata": {},
   "outputs": [],
   "source": [
    "def decide_rotation():\n",
    "    if use_heading_from == 'gps':\n",
    "        angle = compute_angle(GPS_local, ODOM_translations, frame_index)\n",
    "        net_angle = angle + rot_offset\n",
    "        R4 = rot_matrix(net_angle)\n",
    "        return R4\n",
    "    elif use_heading_from == 'manual':\n",
    "        angle = manual_heading\n",
    "        net_angle = angle + rot_offset\n",
    "        R4 = rot_matrix(net_angle)\n",
    "        return R4"
   ]
  },
  {
   "cell_type": "markdown",
   "id": "8ab94f49",
   "metadata": {},
   "source": [
    "## Transformation"
   ]
  },
  {
   "cell_type": "code",
   "execution_count": 39,
   "id": "27e77e06",
   "metadata": {},
   "outputs": [],
   "source": [
    "def apply_transformation():\n",
    "    TF_POSES = []\n",
    "    TF_translations = []\n",
    "    CONV_offset = decide_georeferencing()\n",
    "    R4 = decide_rotation()\n",
    "    POSES_copy = np.copy(ODOM_poses)\n",
    "    # Applying Rotation\n",
    "    for idx in range(len(POSES_copy)):\n",
    "        pose = POSES_copy[idx]\n",
    "        rotated_pose = np.dot(R4, pose)\n",
    "        translation = rotated_pose[:3, 3]\n",
    "        TF_POSES.append(rotated_pose)\n",
    "        TF_translations.append(translation)\n",
    "        \n",
    "    TF_POSES = np.array(TF_POSES)\n",
    "    TF_translations = np.array(TF_translations)\n",
    "        \n",
    "    # Applying Translation\n",
    "    TF_global = convert_local_to_global(TF_translations, CONV_offset)\n",
    "    ODOM_global = convert_local_to_global(ODOM_translations, CONV_offset)\n",
    "    \n",
    "    set1 = [(\"GPS\", GPS_global[:, :2]), (\"Lidar\", ODOM_global)]\n",
    "    set2 = [(\"GPS\", GPS_global[:, :2]), (\"Lidar\", TF_global)]\n",
    "    \n",
    "    return TF_POSES, set1, set2, CONV_offset\n",
    "        "
   ]
  },
  {
   "cell_type": "code",
   "execution_count": 40,
   "id": "6d1be2e9",
   "metadata": {},
   "outputs": [
    {
     "name": "stdout",
     "output_type": "stream",
     "text": [
      "[array([ 387118.53436413, 5815549.48678284]), 33, 'U']\n"
     ]
    }
   ],
   "source": [
    "TF_POSES, set1, set2, CONV_offset = apply_transformation()\n",
    "print(CONV_offset)"
   ]
  },
  {
   "cell_type": "markdown",
   "id": "810af1f7",
   "metadata": {},
   "source": [
    "## Write"
   ]
  },
  {
   "cell_type": "code",
   "execution_count": 41,
   "id": "c3b996e6",
   "metadata": {},
   "outputs": [],
   "source": [
    "file1 = '/home/maanz/Downloads/DGV/LidarPipeline_runs/poses.npy'\n",
    "file2 = '/home/maanz/Downloads/DGV/LidarPipeline_runs/raw_plot.html'\n",
    "file3 = '/home/maanz/Downloads/DGV/LidarPipeline_runs/transformed_plot.html'"
   ]
  },
  {
   "cell_type": "code",
   "execution_count": 42,
   "id": "02e46b5e",
   "metadata": {},
   "outputs": [],
   "source": [
    "def write_results():\n",
    "    np.save(file1, TF_POSES)\n",
    "    print(f\"Poses saved at {file1}\")\n",
    "    plot(file2, set1)\n",
    "    print(f\"Raw plots saved at {file2}\")\n",
    "    plot(file3, set2)\n",
    "    print(f\"Transformed plots saved at {file3}\")"
   ]
  },
  {
   "cell_type": "code",
   "execution_count": 43,
   "id": "77b94e08",
   "metadata": {},
   "outputs": [
    {
     "name": "stdout",
     "output_type": "stream",
     "text": [
      "Poses saved at /home/maanz/Downloads/DGV/LidarPipeline_runs/poses.npy\n",
      "Raw plots saved at /home/maanz/Downloads/DGV/LidarPipeline_runs/raw_plot.html\n",
      "Transformed plots saved at /home/maanz/Downloads/DGV/LidarPipeline_runs/transformed_plot.html\n"
     ]
    }
   ],
   "source": [
    "write_results()"
   ]
  },
  {
   "cell_type": "code",
   "execution_count": null,
   "id": "bf63e88b",
   "metadata": {},
   "outputs": [],
   "source": []
  }
 ],
 "metadata": {
  "kernelspec": {
   "display_name": "kiss-icp-env",
   "language": "python",
   "name": "kiss-icp-env"
  },
  "language_info": {
   "codemirror_mode": {
    "name": "ipython",
    "version": 3
   },
   "file_extension": ".py",
   "mimetype": "text/x-python",
   "name": "python",
   "nbconvert_exporter": "python",
   "pygments_lexer": "ipython3",
   "version": "3.8.18"
  }
 },
 "nbformat": 4,
 "nbformat_minor": 5
}
