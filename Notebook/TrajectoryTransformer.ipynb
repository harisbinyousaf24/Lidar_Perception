{
 "cells": [
  {
   "cell_type": "code",
   "execution_count": 22,
   "id": "d64f439f",
   "metadata": {},
   "outputs": [],
   "source": [
    "import numpy as np\n",
    "import json\n",
    "import os\n",
    "import math\n",
    "import plotly.graph_objects as go\n",
    "import plotly.io as pio\n",
    "import utm\n",
    "import matplotlib.pyplot as plt"
   ]
  },
  {
   "cell_type": "code",
   "execution_count": 2,
   "id": "95e3023a",
   "metadata": {},
   "outputs": [],
   "source": [
    "poses_file = '/home/ty/Downloads/AAI/Lane_Marking_Execution/hamburg/odometry/results/2024-06-29_08-31-18/frames_poses.npy'\n",
    "json_file = '/home/ty/Downloads/AAI/Lane_Marking_Execution/hamburg/data/gnss.json'\n"
   ]
  },
  {
   "cell_type": "code",
   "execution_count": 3,
   "id": "421742fd",
   "metadata": {},
   "outputs": [],
   "source": [
    "def load_states(file):\n",
    "    data = np.load(file)\n",
    "    translations = []\n",
    "    for tf in data:\n",
    "        translation = tf[:3, 3]\n",
    "        translations.append(translation)\n",
    "        \n",
    "    return data, np.array(translations)"
   ]
  },
  {
   "cell_type": "code",
   "execution_count": 4,
   "id": "449b0a52",
   "metadata": {},
   "outputs": [],
   "source": [
    "data, translations = load_states(poses_file)"
   ]
  },
  {
   "cell_type": "code",
   "execution_count": 9,
   "id": "9c61a0f1",
   "metadata": {},
   "outputs": [
    {
     "name": "stdout",
     "output_type": "stream",
     "text": [
      "<class 'numpy.ndarray'>\n",
      "190\n",
      "[[1. 0. 0. 0.]\n",
      " [0. 1. 0. 0.]\n",
      " [0. 0. 1. 0.]\n",
      " [0. 0. 0. 1.]]\n",
      "[[ 9.99998907e-01  2.69878043e-04 -1.45347084e-03  1.12953722e+00]\n",
      " [-2.69459521e-04  9.99999922e-01  2.88134962e-04  3.61188415e-02]\n",
      " [ 1.45354849e-03 -2.87742996e-04  9.99998902e-01 -1.38277067e-02]\n",
      " [ 0.00000000e+00  0.00000000e+00  0.00000000e+00  1.00000000e+00]]\n"
     ]
    }
   ],
   "source": [
    "print(type(data))\n",
    "print(len(data))\n",
    "print(data[0])\n",
    "print(data[1])"
   ]
  },
  {
   "cell_type": "code",
   "execution_count": 12,
   "id": "606b6f2f",
   "metadata": {},
   "outputs": [
    {
     "name": "stdout",
     "output_type": "stream",
     "text": [
      "(190, 3)\n",
      "[0. 0. 0.]\n",
      "[ 1.12953722  0.03611884 -0.01382771]\n"
     ]
    }
   ],
   "source": [
    "print(translations.shape)\n",
    "print(translations[0])\n",
    "print(translations[1])"
   ]
  },
  {
   "cell_type": "code",
   "execution_count": 13,
   "id": "992ea86b",
   "metadata": {},
   "outputs": [],
   "source": [
    "def read_gps(file):\n",
    "    with open(file, 'r') as json_file:\n",
    "        data = json.load(json_file)\n",
    "        \n",
    "    lat = np.array(data['latitude'])\n",
    "    lon = np.array(data['longitude'])\n",
    "    alt = np.array(data['altitude'])\n",
    "    \n",
    "    data = np.column_stack((lat, lon, alt))\n",
    "    return data"
   ]
  },
  {
   "cell_type": "code",
   "execution_count": 14,
   "id": "37effe15",
   "metadata": {},
   "outputs": [],
   "source": [
    "gps_data = read_gps(json_file)"
   ]
  },
  {
   "cell_type": "code",
   "execution_count": 16,
   "id": "ed73deeb",
   "metadata": {},
   "outputs": [
    {
     "name": "stdout",
     "output_type": "stream",
     "text": [
      "(76, 3)\n",
      "[52.4783677 13.3378847 78.106    ]\n"
     ]
    }
   ],
   "source": [
    "print(gps_data.shape)\n",
    "print(gps_data[0])"
   ]
  },
  {
   "cell_type": "code",
   "execution_count": 18,
   "id": "d616fb61",
   "metadata": {},
   "outputs": [],
   "source": [
    "def convert_global_to_local(gps_data):\n",
    "    latlon_gps = gps_data[:, :2]\n",
    "    first_lat, first_lon = latlon_gps[0]\n",
    "    utm_x, utm_y, zone_num, zone_letter = utm.from_latlon(first_lat, first_lon)\n",
    "    offset = np.array([utm_x, utm_y])\n",
    "    utm_mat = []\n",
    "    for lat, lon in latlon_gps:\n",
    "        ux, uy, _, _ = utm.from_latlon(lat, lon)\n",
    "        utm_arr = np.array([ux, uy])\n",
    "        utm_mat.append(utm_arr)\n",
    "        \n",
    "    utm_mat = np.array(utm_mat)\n",
    "    local_mat = utm_mat - offset\n",
    "    off_lst = [offset, zone_num, zone_letter]\n",
    "    \n",
    "    return local_mat, off_lst"
   ]
  },
  {
   "cell_type": "code",
   "execution_count": 19,
   "id": "d73a61c7",
   "metadata": {},
   "outputs": [],
   "source": [
    "local_gps, offset = convert_global_to_local(gps_data)\n"
   ]
  },
  {
   "cell_type": "code",
   "execution_count": 21,
   "id": "74fcf921",
   "metadata": {},
   "outputs": [
    {
     "name": "stdout",
     "output_type": "stream",
     "text": [
      "(76, 2)\n",
      "[0. 0.]\n",
      "[2.89060501 0.42310164]\n"
     ]
    }
   ],
   "source": [
    "print(local_gps.shape)\n",
    "print(local_gps[0])\n",
    "print(local_gps[1])"
   ]
  },
  {
   "cell_type": "code",
   "execution_count": 17,
   "id": "c57eb73e",
   "metadata": {},
   "outputs": [],
   "source": [
    "def compute_rotation_based_on_gps(gps_data, odom_data, frame_idx=-1, add_offset=0):\n",
    "    poses_data = odom_data[:, :2]\n",
    "    gps_data = gps_data[:, :2]\n",
    "    \n",
    "    tangent_gps = gps_data[frame_idx] - gps_data[0]\n",
    "    tangent_lidar = poses_data[frame_idx] - poses_data[0]\n",
    "\n",
    "    tangent_gps_norm = tangent_gps / np.linalg.norm(tangent_gps)\n",
    "    tangent_lidar_norm = tangent_lidar / np.linalg.norm(tangent_lidar)\n",
    "\n",
    "    dot_product = np.dot(tangent_gps_norm, tangent_lidar_norm)\n",
    "    dot_product = np.clip(dot_product, -1.0, 1.0)\n",
    "    angle_radians = np.arccos(dot_product)\n",
    "    sign = np.sign(tangent_gps[0] * tangent_lidar[1] - tangent_gps[1] * tangent_lidar[0])\n",
    "    angle_radians = sign * angle_radians\n",
    "    angle_degrees = np.degrees(angle_radians)\n",
    "    print(angle_degrees)\n",
    "    angle_degrees = -1*angle_degrees + add_offset\n",
    "    \n",
    "    return angle_degrees"
   ]
  },
  {
   "cell_type": "code",
   "execution_count": 23,
   "id": "c1bec819",
   "metadata": {},
   "outputs": [
    {
     "name": "stdout",
     "output_type": "stream",
     "text": [
      "-4.475275552324911\n"
     ]
    }
   ],
   "source": [
    "angle = compute_rotation_based_on_gps(local_gps, translations,\n",
    "                                     -1, 0)"
   ]
  },
  {
   "cell_type": "code",
   "execution_count": null,
   "id": "3547cab7",
   "metadata": {},
   "outputs": [],
   "source": []
  }
 ],
 "metadata": {
  "kernelspec": {
   "display_name": "kiss-icp-env",
   "language": "python",
   "name": "kiss-icp-env"
  },
  "language_info": {
   "codemirror_mode": {
    "name": "ipython",
    "version": 3
   },
   "file_extension": ".py",
   "mimetype": "text/x-python",
   "name": "python",
   "nbconvert_exporter": "python",
   "pygments_lexer": "ipython3",
   "version": "3.8.18"
  }
 },
 "nbformat": 4,
 "nbformat_minor": 5
}
