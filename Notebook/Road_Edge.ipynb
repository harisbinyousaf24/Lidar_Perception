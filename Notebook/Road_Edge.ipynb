{
 "cells": [
  {
   "cell_type": "code",
   "execution_count": 64,
   "id": "9cf9f152",
   "metadata": {},
   "outputs": [],
   "source": [
    "import numpy as np\n",
    "from pyntcloud import PyntCloud\n",
    "import open3d as o3d\n",
    "import matplotlib.pyplot as plt\n",
    "import cv2"
   ]
  },
  {
   "cell_type": "code",
   "execution_count": 65,
   "id": "e1913a5d",
   "metadata": {},
   "outputs": [
    {
     "name": "stdout",
     "output_type": "stream",
     "text": [
      "0.18.0\n"
     ]
    }
   ],
   "source": [
    "print(o3d.__version__)"
   ]
  },
  {
   "cell_type": "code",
   "execution_count": 66,
   "id": "bdeaa16f",
   "metadata": {},
   "outputs": [],
   "source": [
    "def read_point_cloud(file_or_cloud):\n",
    "    if isinstance(file_or_cloud, PyntCloud):\n",
    "        return file_or_cloud\n",
    "    elif isinstance(file_or_cloud, str):\n",
    "        cloud = PyntCloud.from_file(file_or_cloud)\n",
    "        return cloud\n",
    "    else:\n",
    "        raise ValueError(\"Input must be a file path (str) or a Point Cloud object.\")\n"
   ]
  },
  {
   "cell_type": "code",
   "execution_count": 67,
   "id": "a73ef46b",
   "metadata": {},
   "outputs": [],
   "source": [
    "def pyntcloud_to_open3d(file_or_cloud):\n",
    "    cloud = read_point_cloud(file_or_cloud)\n",
    "    cloud_pts = cloud.points[['x', 'y', 'z', 'intensity']].values\n",
    "\n",
    "    xyz = cloud_pts[:, :3]\n",
    "    open3d_cloud = o3d.geometry.PointCloud()\n",
    "    open3d_cloud.points = o3d.utility.Vector3dVector(xyz)\n",
    "    return open3d_cloud"
   ]
  },
  {
   "cell_type": "code",
   "execution_count": 68,
   "id": "39fa7112",
   "metadata": {},
   "outputs": [],
   "source": [
    "def color_pcd(pcd, clr='r'):\n",
    "    # cloud = PreprocessorUtils.read_point_cloud(file)\n",
    "    # pcd = PlaygroundUtils.pyntcloud_to_open3d(cloud)\n",
    "\n",
    "    if clr == 'r':\n",
    "        color = [1, 0, 0]\n",
    "        pcd.paint_uniform_color(color)\n",
    "    elif clr == 'g':\n",
    "        color = [0, 1, 0]\n",
    "        pcd.paint_uniform_color(color)\n",
    "    elif clr == 'b':\n",
    "        color = [0, 0, 1]\n",
    "        pcd.paint_uniform_color(color)\n",
    "\n",
    "    return pcd"
   ]
  },
  {
   "cell_type": "code",
   "execution_count": 69,
   "id": "3ed71526",
   "metadata": {},
   "outputs": [],
   "source": [
    "def visualize_multiple_pcds(*pcds, normal=False):\n",
    "    clouds = [pcd for pcd in pcds]\n",
    "    o3d.visualization.draw_geometries(clouds, point_show_normal=normal)"
   ]
  },
  {
   "cell_type": "code",
   "execution_count": 70,
   "id": "880be2d4",
   "metadata": {},
   "outputs": [],
   "source": [
    "def visualize_clouds(inlier_cloud, outlier_cloud):\n",
    "    inlier_pcd = pyntcloud_to_open3d(inlier_cloud)\n",
    "    outlier_pcd = pyntcloud_to_open3d(outlier_cloud)\n",
    "    \n",
    "    inlier_pcd = color_pcd(inlier_pcd, 'r')\n",
    "#     outlier_pcd = color_pcd(outlier_pcd, 'b')\n",
    "    \n",
    "    visualize_multiple_pcds(inlier_pcd, outlier_pcd)"
   ]
  },
  {
   "cell_type": "code",
   "execution_count": 71,
   "id": "6c91ba82",
   "metadata": {},
   "outputs": [],
   "source": [
    "def detect_edges_by_normals(pcd, radius, threshold):\n",
    "    pcd.estimate_normals(\n",
    "        search_param=o3d.geometry.KDTreeSearchParamHybrid(radius=radius, max_nn=5))\n",
    "\n",
    "    normals = np.asarray(pcd.normals)\n",
    "    edges = np.zeros(len(normals), dtype=bool)\n",
    "\n",
    "    kdtree = o3d.geometry.KDTreeFlann(pcd)\n",
    "\n",
    "    for i in range(len(normals)):\n",
    "        [_, idx, _] = kdtree.search_radius_vector_3d(pcd.points[i], radius)\n",
    "        neighbor_normals = normals[idx, :]\n",
    "        norm_var = np.mean(np.linalg.norm(neighbor_normals - normals[i], axis=1))\n",
    "\n",
    "        if norm_var > threshold:\n",
    "            edges[i] = True\n",
    "\n",
    "    edge_points = pcd.select_by_index(np.where(edges)[0])\n",
    "\n",
    "    return edge_points"
   ]
  },
  {
   "cell_type": "markdown",
   "id": "a20aa6d3",
   "metadata": {},
   "source": [
    "## Ground Map Logic implementation"
   ]
  },
  {
   "cell_type": "code",
   "execution_count": 185,
   "id": "031262df",
   "metadata": {},
   "outputs": [],
   "source": [
    "ply_frame = '/home/maanz/Downloads/DGV/LidarPipeline_runs/hamburg/maps/ground_map.ply'"
   ]
  },
  {
   "cell_type": "code",
   "execution_count": 194,
   "id": "598fe2b4",
   "metadata": {},
   "outputs": [],
   "source": [
    "VS = 0.1\n",
    "RADIUS = 1\n",
    "NBS = 20\n",
    "ANG = 10"
   ]
  },
  {
   "cell_type": "code",
   "execution_count": 195,
   "id": "bf5e0654",
   "metadata": {},
   "outputs": [],
   "source": [
    "def voxelize_cloud(pcd, vs):\n",
    "    downpcd = pcd.voxel_down_sample(voxel_size=vs)\n",
    "    return downpcd"
   ]
  },
  {
   "cell_type": "code",
   "execution_count": 196,
   "id": "893bbdd0",
   "metadata": {},
   "outputs": [],
   "source": [
    "def estimate_normals(pcd, radius, max_nbs):\n",
    "    pcd.estimate_normals(\n",
    "        search_param=o3d.geometry.KDTreeSearchParamHybrid(radius=radius, \n",
    "                                                          max_nn=max_nbs))\n",
    "\n",
    "    normals = np.asarray(pcd.normals)\n",
    "    return pcd, normals"
   ]
  },
  {
   "cell_type": "code",
   "execution_count": 198,
   "id": "3b5227ac",
   "metadata": {},
   "outputs": [],
   "source": [
    "def filter_by_normals(pcd, normals, angle_deg):\n",
    "    # Calculate the cosine of the angle for comparison\n",
    "    cos_angle = np.cos(np.radians(angle_deg))\n",
    "\n",
    "    # Determine the range for exclusion based on cosine values\n",
    "    vertical_mask = np.abs(normals[:, 2]) >= cos_angle\n",
    "    inlier_indices = np.where(~vertical_mask)[0]\n",
    "    outlier_indices = np.where(vertical_mask)[0]\n",
    "\n",
    "    # Extract inlier and outlier point clouds\n",
    "    inlier_pcd = pcd.select_by_index(inlier_indices)\n",
    "    outlier_pcd = pcd.select_by_index(outlier_indices)\n",
    "\n",
    "    return inlier_pcd, outlier_pcd"
   ]
  },
  {
   "cell_type": "code",
   "execution_count": 199,
   "id": "921b4c36",
   "metadata": {},
   "outputs": [],
   "source": [
    "def flow(ply_frame, voxelize = True):\n",
    "    pcd = pyntcloud_to_open3d(ply_frame)\n",
    "    if voxelize:\n",
    "        pcd = voxelize_cloud(pcd, VS)\n",
    "    pcd, normals = estimate_normals(pcd, RADIUS, NBS)\n",
    "    INLIER, OUTLIER = filter_by_normals(pcd, normals, ANG)\n",
    "    \n",
    "    return INLIER, OUTLIER\n"
   ]
  },
  {
   "cell_type": "code",
   "execution_count": 200,
   "id": "e4329e4d",
   "metadata": {},
   "outputs": [],
   "source": [
    "Inlier, Outlier = flow(ply_frame, True)"
   ]
  },
  {
   "cell_type": "code",
   "execution_count": 202,
   "id": "a4dc4f1d",
   "metadata": {},
   "outputs": [],
   "source": [
    "Inlier = color_pcd(Inlier, 'r')\n",
    "# visualize_multiple_pcds(Inlier, True)\n",
    "o3d.visualization.draw_geometries([Inlier],\n",
    "                                  zoom=0.3412,\n",
    "                                  front=[0.4257, -0.2125, -0.8795],\n",
    "                                  lookat=[2.6172, 2.0475, 1.532],\n",
    "                                  up=[-0.0694, -0.9768, 0.2024],\n",
    "                                 point_show_normal=False)"
   ]
  },
  {
   "cell_type": "markdown",
   "id": "423e143c",
   "metadata": {},
   "source": [
    "## Single Frame Processing"
   ]
  },
  {
   "cell_type": "code",
   "execution_count": 197,
   "id": "0c57f06a",
   "metadata": {},
   "outputs": [],
   "source": [
    "def segment_plane(pcd, dist_thresh, ransac_n, num_iters):\n",
    "    # Apply plane segmentation\n",
    "    plane_model, inliers = pcd.segment_plane(distance_threshold=dist_thresh,\n",
    "                                             ransac_n=ransac_n,\n",
    "                                             num_iterations=num_iters)\n",
    "    \n",
    "    inlier_pcd = pcd.select_by_index(inliers)\n",
    "    outlier_pcd = pcd.select_by_index(inliers, invert=True)\n",
    "    \n",
    "    return inlier_pcd, outlier_pcd"
   ]
  },
  {
   "cell_type": "code",
   "execution_count": 213,
   "id": "07bd6f80",
   "metadata": {},
   "outputs": [],
   "source": [
    "input_frame = '/home/maanz/Downloads/DGV/LidarPipeline_runs/hamburg/preprocessed/frames/1693307439225051803.ply'\n",
    "input_pcd = pyntcloud_to_open3d(input_frame)"
   ]
  },
  {
   "cell_type": "code",
   "execution_count": 225,
   "id": "94f44382",
   "metadata": {},
   "outputs": [],
   "source": [
    "# visualize_multiple_pcds(input_pcd)"
   ]
  },
  {
   "cell_type": "code",
   "execution_count": 231,
   "id": "23ea06b9",
   "metadata": {},
   "outputs": [],
   "source": [
    "inlier, outlier = segment_plane(input_pcd, 0.1, 6, 1000)"
   ]
  },
  {
   "cell_type": "code",
   "execution_count": 232,
   "id": "2b4439a5",
   "metadata": {},
   "outputs": [],
   "source": [
    "inlier = color_pcd(inlier, 'r')\n",
    "visualize_multiple_pcds(inlier, outlier)"
   ]
  },
  {
   "cell_type": "code",
   "execution_count": 235,
   "id": "c9ceb962",
   "metadata": {},
   "outputs": [],
   "source": [
    "inlier, normals = estimate_normals(inlier, 0.05, 3)"
   ]
  },
  {
   "cell_type": "code",
   "execution_count": null,
   "id": "bf3f95d9",
   "metadata": {},
   "outputs": [],
   "source": [
    "o3d.visualization.draw_geometries([inlier],\n",
    "                                  zoom=0.3412,\n",
    "                                  front=[0.4257, -0.2125, -0.8795],\n",
    "                                  lookat=[2.6172, 2.0475, 1.532],\n",
    "                                  up=[-0.0694, -0.9768, 0.2024],\n",
    "                                 point_show_normal=True)"
   ]
  },
  {
   "cell_type": "code",
   "execution_count": null,
   "id": "a4f48af0",
   "metadata": {},
   "outputs": [],
   "source": []
  }
 ],
 "metadata": {
  "kernelspec": {
   "display_name": "kiss-icp-env",
   "language": "python",
   "name": "kiss-icp-env"
  },
  "language_info": {
   "codemirror_mode": {
    "name": "ipython",
    "version": 3
   },
   "file_extension": ".py",
   "mimetype": "text/x-python",
   "name": "python",
   "nbconvert_exporter": "python",
   "pygments_lexer": "ipython3",
   "version": "3.8.18"
  }
 },
 "nbformat": 4,
 "nbformat_minor": 5
}
