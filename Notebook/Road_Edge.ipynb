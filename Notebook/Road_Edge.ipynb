{
 "cells": [
  {
   "cell_type": "code",
   "execution_count": 64,
   "id": "9cf9f152",
   "metadata": {},
   "outputs": [],
   "source": [
    "import numpy as np\n",
    "from pyntcloud import PyntCloud\n",
    "import open3d as o3d\n",
    "import matplotlib.pyplot as plt\n",
    "import cv2"
   ]
  },
  {
   "cell_type": "code",
   "execution_count": 65,
   "id": "e1913a5d",
   "metadata": {},
   "outputs": [
    {
     "name": "stdout",
     "output_type": "stream",
     "text": [
      "0.18.0\n"
     ]
    }
   ],
   "source": [
    "print(o3d.__version__)"
   ]
  },
  {
   "cell_type": "code",
   "execution_count": 66,
   "id": "bdeaa16f",
   "metadata": {},
   "outputs": [],
   "source": [
    "def read_point_cloud(file_or_cloud):\n",
    "    if isinstance(file_or_cloud, PyntCloud):\n",
    "        return file_or_cloud\n",
    "    elif isinstance(file_or_cloud, str):\n",
    "        cloud = PyntCloud.from_file(file_or_cloud)\n",
    "        return cloud\n",
    "    else:\n",
    "        raise ValueError(\"Input must be a file path (str) or a Point Cloud object.\")\n"
   ]
  },
  {
   "cell_type": "code",
   "execution_count": 67,
   "id": "a73ef46b",
   "metadata": {},
   "outputs": [],
   "source": [
    "def pyntcloud_to_open3d(file_or_cloud):\n",
    "    cloud = read_point_cloud(file_or_cloud)\n",
    "    cloud_pts = cloud.points[['x', 'y', 'z', 'intensity']].values\n",
    "\n",
    "    xyz = cloud_pts[:, :3]\n",
    "    open3d_cloud = o3d.geometry.PointCloud()\n",
    "    open3d_cloud.points = o3d.utility.Vector3dVector(xyz)\n",
    "    return open3d_cloud"
   ]
  },
  {
   "cell_type": "code",
   "execution_count": 68,
   "id": "39fa7112",
   "metadata": {},
   "outputs": [],
   "source": [
    "def color_pcd(pcd, clr='r'):\n",
    "    # cloud = PreprocessorUtils.read_point_cloud(file)\n",
    "    # pcd = PlaygroundUtils.pyntcloud_to_open3d(cloud)\n",
    "\n",
    "    if clr == 'r':\n",
    "        color = [1, 0, 0]\n",
    "        pcd.paint_uniform_color(color)\n",
    "    elif clr == 'g':\n",
    "        color = [0, 1, 0]\n",
    "        pcd.paint_uniform_color(color)\n",
    "    elif clr == 'b':\n",
    "        color = [0, 0, 1]\n",
    "        pcd.paint_uniform_color(color)\n",
    "\n",
    "    return pcd"
   ]
  },
  {
   "cell_type": "code",
   "execution_count": 69,
   "id": "3ed71526",
   "metadata": {},
   "outputs": [],
   "source": [
    "def visualize_multiple_pcds(*pcds, normal=False):\n",
    "    clouds = [pcd for pcd in pcds]\n",
    "    o3d.visualization.draw_geometries(clouds, point_show_normal=normal)"
   ]
  },
  {
   "cell_type": "code",
   "execution_count": 70,
   "id": "880be2d4",
   "metadata": {},
   "outputs": [],
   "source": [
    "def visualize_clouds(inlier_cloud, outlier_cloud):\n",
    "    inlier_pcd = pyntcloud_to_open3d(inlier_cloud)\n",
    "    outlier_pcd = pyntcloud_to_open3d(outlier_cloud)\n",
    "    \n",
    "    inlier_pcd = color_pcd(inlier_pcd, 'r')\n",
    "#     outlier_pcd = color_pcd(outlier_pcd, 'b')\n",
    "    \n",
    "    visualize_multiple_pcds(inlier_pcd, outlier_pcd)"
   ]
  },
  {
   "cell_type": "code",
   "execution_count": 71,
   "id": "6c91ba82",
   "metadata": {},
   "outputs": [],
   "source": [
    "def detect_edges_by_normals(pcd, radius, threshold):\n",
    "    pcd.estimate_normals(\n",
    "        search_param=o3d.geometry.KDTreeSearchParamHybrid(radius=radius, max_nn=5))\n",
    "\n",
    "    normals = np.asarray(pcd.normals)\n",
    "    edges = np.zeros(len(normals), dtype=bool)\n",
    "\n",
    "    kdtree = o3d.geometry.KDTreeFlann(pcd)\n",
    "\n",
    "    for i in range(len(normals)):\n",
    "        [_, idx, _] = kdtree.search_radius_vector_3d(pcd.points[i], radius)\n",
    "        neighbor_normals = normals[idx, :]\n",
    "        norm_var = np.mean(np.linalg.norm(neighbor_normals - normals[i], axis=1))\n",
    "\n",
    "        if norm_var > threshold:\n",
    "            edges[i] = True\n",
    "\n",
    "    edge_points = pcd.select_by_index(np.where(edges)[0])\n",
    "\n",
    "    return edge_points"
   ]
  },
  {
   "cell_type": "markdown",
   "id": "a20aa6d3",
   "metadata": {},
   "source": [
    "## Single frame Logic implementation"
   ]
  },
  {
   "cell_type": "code",
   "execution_count": 72,
   "id": "031262df",
   "metadata": {},
   "outputs": [],
   "source": [
    "ply_frame = '/home/maanz/Downloads/DGV/LidarPipeline_runs/hamburg/maps/ground_map.ply'\n"
   ]
  },
  {
   "cell_type": "code",
   "execution_count": 73,
   "id": "7fcf33c4",
   "metadata": {},
   "outputs": [],
   "source": [
    "VS = 0.1\n",
    "RADIUS = 1\n",
    "NBS = 10\n",
    "ANG = 10"
   ]
  },
  {
   "cell_type": "code",
   "execution_count": 74,
   "id": "bf5e0654",
   "metadata": {},
   "outputs": [],
   "source": [
    "def voxelize_cloud(pcd, vs):\n",
    "    downpcd = pcd.voxel_down_sample(voxel_size=vs)\n",
    "    return downpcd"
   ]
  },
  {
   "cell_type": "code",
   "execution_count": 75,
   "id": "af7c9d66",
   "metadata": {},
   "outputs": [],
   "source": [
    "def estimate_normals(pcd, radius, max_nbs):\n",
    "    pcd.estimate_normals(\n",
    "        search_param=o3d.geometry.KDTreeSearchParamHybrid(radius=radius, \n",
    "                                                          max_nn=max_nbs))\n",
    "\n",
    "    normals = np.asarray(pcd.normals)\n",
    "    return pcd, normals"
   ]
  },
  {
   "cell_type": "code",
   "execution_count": 76,
   "id": "71ccaf0d",
   "metadata": {},
   "outputs": [],
   "source": [
    "def filter_by_normals(pcd, normals, angle_deg):\n",
    "    # Calculate the cosine of the angle for comparison\n",
    "    cos_angle = np.cos(np.radians(angle_deg))\n",
    "\n",
    "    # Determine the range for exclusion based on cosine values\n",
    "    vertical_mask = np.abs(normals[:, 2]) >= cos_angle\n",
    "    inlier_indices = np.where(~vertical_mask)[0]\n",
    "    outlier_indices = np.where(vertical_mask)[0]\n",
    "\n",
    "    # Extract inlier and outlier point clouds\n",
    "    inlier_pcd = pcd.select_by_index(inlier_indices)\n",
    "    outlier_pcd = pcd.select_by_index(outlier_indices)\n",
    "\n",
    "    return inlier_pcd, outlier_pcd"
   ]
  },
  {
   "cell_type": "code",
   "execution_count": 77,
   "id": "d868a010",
   "metadata": {},
   "outputs": [],
   "source": [
    "def flow(ply_frame, voxelize = True):\n",
    "    pcd = pyntcloud_to_open3d(ply_frame)\n",
    "    if voxelize:\n",
    "        pcd = voxelize_cloud(pcd, VS)\n",
    "    pcd, normals = estimate_normals(pcd, RADIUS, NBS)\n",
    "    INLIER, OUTLIER = filter_by_normals(pcd, normals, ANG)\n",
    "    \n",
    "    return INLIER, OUTLIER\n"
   ]
  },
  {
   "cell_type": "code",
   "execution_count": 78,
   "id": "e4329e4d",
   "metadata": {},
   "outputs": [],
   "source": [
    "Inlier, Outlier = flow(ply_frame)"
   ]
  },
  {
   "cell_type": "code",
   "execution_count": 79,
   "id": "8145b9f1",
   "metadata": {},
   "outputs": [],
   "source": [
    "Inlier = color_pcd(Inlier, 'r')\n",
    "visualize_multiple_pcds(Inlier)"
   ]
  },
  {
   "cell_type": "code",
   "execution_count": null,
   "id": "5ed93969",
   "metadata": {},
   "outputs": [],
   "source": []
  }
 ],
 "metadata": {
  "kernelspec": {
   "display_name": "kiss-icp-env",
   "language": "python",
   "name": "kiss-icp-env"
  },
  "language_info": {
   "codemirror_mode": {
    "name": "ipython",
    "version": 3
   },
   "file_extension": ".py",
   "mimetype": "text/x-python",
   "name": "python",
   "nbconvert_exporter": "python",
   "pygments_lexer": "ipython3",
   "version": "3.8.18"
  }
 },
 "nbformat": 4,
 "nbformat_minor": 5
}
