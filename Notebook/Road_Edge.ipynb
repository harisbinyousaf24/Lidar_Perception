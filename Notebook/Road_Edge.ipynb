{
 "cells": [
  {
   "cell_type": "code",
   "execution_count": 1,
   "id": "9cf9f152",
   "metadata": {},
   "outputs": [
    {
     "name": "stdout",
     "output_type": "stream",
     "text": [
      "Jupyter environment detected. Enabling Open3D WebVisualizer.\n",
      "[Open3D INFO] WebRTC GUI backend enabled.\n",
      "[Open3D INFO] WebRTCWindowSystem: HTTP handshake server disabled.\n"
     ]
    }
   ],
   "source": [
    "import numpy as np\n",
    "from pyntcloud import PyntCloud\n",
    "import open3d as o3d\n",
    "import matplotlib.pyplot as plt\n",
    "import cv2\n",
    "import pandas as pd\n",
    "from tqdm import tqdm"
   ]
  },
  {
   "cell_type": "code",
   "execution_count": 2,
   "id": "e1913a5d",
   "metadata": {},
   "outputs": [
    {
     "name": "stdout",
     "output_type": "stream",
     "text": [
      "0.18.0\n"
     ]
    }
   ],
   "source": [
    "print(o3d.__version__)"
   ]
  },
  {
   "cell_type": "code",
   "execution_count": 3,
   "id": "bdeaa16f",
   "metadata": {},
   "outputs": [],
   "source": [
    "def read_point_cloud(file_or_cloud):\n",
    "    if isinstance(file_or_cloud, PyntCloud):\n",
    "        return file_or_cloud\n",
    "    elif isinstance(file_or_cloud, str):\n",
    "        cloud = PyntCloud.from_file(file_or_cloud)\n",
    "        return cloud\n",
    "    else:\n",
    "        raise ValueError(\"Input must be a file path (str) or a Point Cloud object.\")\n"
   ]
  },
  {
   "cell_type": "code",
   "execution_count": 4,
   "id": "a73ef46b",
   "metadata": {},
   "outputs": [],
   "source": [
    "def pyntcloud_to_open3d(file_or_cloud):\n",
    "    cloud = read_point_cloud(file_or_cloud)\n",
    "    cloud_pts = cloud.points[['x', 'y', 'z', 'intensity']].values\n",
    "\n",
    "    xyz = cloud_pts[:, :3]\n",
    "    open3d_cloud = o3d.geometry.PointCloud()\n",
    "    open3d_cloud.points = o3d.utility.Vector3dVector(xyz)\n",
    "    return open3d_cloud"
   ]
  },
  {
   "cell_type": "code",
   "execution_count": 5,
   "id": "39fa7112",
   "metadata": {},
   "outputs": [],
   "source": [
    "def color_pcd(pcd, clr='r'):\n",
    "    if clr == 'r':\n",
    "        color = [1, 0, 0]\n",
    "        pcd.paint_uniform_color(color)\n",
    "    elif clr == 'g':\n",
    "        color = [0, 1, 0]\n",
    "        pcd.paint_uniform_color(color)\n",
    "    elif clr == 'b':\n",
    "        color = [0, 0, 1]\n",
    "        pcd.paint_uniform_color(color)\n",
    "\n",
    "    return pcd"
   ]
  },
  {
   "cell_type": "code",
   "execution_count": 26,
   "id": "3ed71526",
   "metadata": {},
   "outputs": [],
   "source": [
    "def visualize_multiple_pcds(*pcds, normal=False):\n",
    "    clouds = [pcd for pcd in pcds if isinstance(pcd, o3d.geometry.PointCloud)]\n",
    "    o3d.visualization.draw_geometries(clouds, point_show_normal=normal)"
   ]
  },
  {
   "cell_type": "code",
   "execution_count": 110,
   "id": "880be2d4",
   "metadata": {},
   "outputs": [],
   "source": [
    "def visualize_clouds(inlier_cloud, outlier_cloud, normal=False):\n",
    "    inlier_pcd = pyntcloud_to_open3d(inlier_cloud)\n",
    "    outlier_pcd = pyntcloud_to_open3d(outlier_cloud)\n",
    "    \n",
    "    inlier_pcd = color_pcd(inlier_pcd, 'r')\n",
    "    \n",
    "    visualize_multiple_pcds(inlier_pcd, outlier_pcd, normal)"
   ]
  },
  {
   "cell_type": "code",
   "execution_count": 86,
   "id": "86f3541d",
   "metadata": {},
   "outputs": [],
   "source": [
    "def normals_filter(input_cloud, radius, max_nbs, ang_deg, ort='+z'):\n",
    "    cloud = read_point_cloud(input_cloud)\n",
    "    cloud_df = cloud.points\n",
    "    pcd = pyntcloud_to_open3d(cloud)\n",
    "    \n",
    "    pcd.estimate_normals(\n",
    "        search_param=o3d.geometry.KDTreeSearchParamHybrid(radius=radius, \n",
    "                                                          max_nn=max_nbs))\n",
    "    if ort == 'camera':\n",
    "        pcd.orient_normals_towards_camera_location()\n",
    "    elif ort == '+z':\n",
    "        pcd.orient_normals_to_align_with_direction([0, 0, 1])\n",
    "    elif ort == '-z':\n",
    "        pcd.orient_normals_to_align_with_direction([0, 0, -1])\n",
    "\n",
    "    normals = np.asarray(pcd.normals)\n",
    "    cos_angle = np.cos(np.radians(ang_deg))\n",
    "    \n",
    "    vertical_mask = np.abs(normals[:, 2]) >= cos_angle\n",
    "    \n",
    "    # Apply the mask to filter out vertical points\n",
    "    inlier_df = cloud_df.loc[~vertical_mask].copy()\n",
    "    outlier_df = cloud_df.loc[vertical_mask].copy()\n",
    "    \n",
    "    # Add normal vectors to the DataFrames\n",
    "    inlier_normals = normals[~vertical_mask]\n",
    "    inlier_df.loc[:, 'nx'] = inlier_normals[:, 0]\n",
    "    inlier_df.loc[:, 'ny'] = inlier_normals[:, 1]\n",
    "    inlier_df.loc[:, 'nz'] = inlier_normals[:, 2]\n",
    "    \n",
    "    outlier_normals = normals[vertical_mask]\n",
    "    outlier_df.loc[:, 'nx'] = outlier_normals[:, 0]\n",
    "    outlier_df.loc[:, 'ny'] = outlier_normals[:, 1]\n",
    "    outlier_df.loc[:, 'nz'] = outlier_normals[:, 2]\n",
    "    \n",
    "    # Convert DataFrames back to PyntClouds\n",
    "    inlier_cloud = PyntCloud(inlier_df)\n",
    "    outlier_cloud = PyntCloud(outlier_df)\n",
    "    \n",
    "    return inlier_cloud, outlier_cloud"
   ]
  },
  {
   "cell_type": "code",
   "execution_count": 87,
   "id": "b3e94ef8",
   "metadata": {},
   "outputs": [],
   "source": [
    "# def filter_by_normals(pcd, normals, angle_deg):\n",
    "#     # Calculate the cosine of the angle for comparison\n",
    "#     cos_angle = np.cos(np.radians(angle_deg))\n",
    "\n",
    "#     # Determine the range for exclusion based on cosine values\n",
    "#     vertical_mask = np.abs(normals[:, 2]) >= cos_angle\n",
    "#     inlier_indices = np.where(~vertical_mask)[0]\n",
    "#     outlier_indices = np.where(vertical_mask)[0]\n",
    "\n",
    "#     # Extract inlier and outlier point clouds\n",
    "#     inlier_pcd = pcd.select_by_index(inlier_indices)\n",
    "#     outlier_pcd = pcd.select_by_index(outlier_indices)\n",
    "\n",
    "#     return inlier_pcd, outlier_pcd"
   ]
  },
  {
   "cell_type": "code",
   "execution_count": 88,
   "id": "5af2192a",
   "metadata": {},
   "outputs": [],
   "source": [
    "def apply_intensity_filter(map_file, filter_range):\n",
    "    lower, upper = filter_range\n",
    "    map_cloud = read_point_cloud(map_file)\n",
    "    map_df = map_cloud.points\n",
    "    map_points = map_df.values\n",
    "\n",
    "    intensity_axis = map_points[:, 3]\n",
    "    intensity_mask = np.logical_and(intensity_axis >= lower, intensity_axis <= upper)\n",
    "\n",
    "    inlier_points_df = map_df[intensity_mask]\n",
    "    outlier_points_df = map_df[~intensity_mask]\n",
    "\n",
    "    # Convert filtered DataFrames back to PyntClouds\n",
    "    inlier_cloud = PyntCloud(inlier_points_df)\n",
    "    outlier_cloud = PyntCloud(outlier_points_df)\n",
    "\n",
    "    return inlier_cloud, outlier_cloud"
   ]
  },
  {
   "cell_type": "code",
   "execution_count": 111,
   "id": "af2cef3a",
   "metadata": {},
   "outputs": [],
   "source": [
    "def segment_plane(input_cloud, dist_thresh, ransac_n, num_iters):\n",
    "    cloud = read_point_cloud(input_cloud)\n",
    "    cloud_df = cloud.points\n",
    "    pcd = pyntcloud_to_open3d(cloud)\n",
    "    \n",
    "    # Apply plane segmentation\n",
    "    plane_model, inliers = pcd.segment_plane(distance_threshold=dist_thresh,\n",
    "                                             ransac_n=ransac_n,\n",
    "                                             num_iterations=num_iters)\n",
    "    \n",
    "    \n",
    "    \n",
    "    inlier_mask = np.zeros(len(pcd.points), dtype=bool)\n",
    "    inlier_mask[inliers] = True\n",
    "\n",
    "    # Filtering inlier points based on the mask\n",
    "    inlier_points_df = cloud_df[inlier_mask]\n",
    "    outlier_points_df = cloud_df[~inlier_mask]\n",
    "\n",
    "    # Convert filtered DataFrames back to PyntClouds\n",
    "    inlier_cloud = PyntCloud(inlier_points_df)\n",
    "    outlier_cloud = PyntCloud(outlier_points_df)\n",
    "\n",
    "    return inlier_cloud, outlier_cloud"
   ]
  },
  {
   "cell_type": "code",
   "execution_count": 90,
   "id": "62f84ecb",
   "metadata": {},
   "outputs": [],
   "source": [
    "def visualize_plane(pcd, plane='yz'):\n",
    "    matrix = np.asarray(pcd.points)\n",
    "    x = matrix[:, 0]\n",
    "    y = matrix[:, 1]\n",
    "    z = matrix[:, 2]\n",
    "    \n",
    "    min_x, max_x = np.min(x), np.max(x)\n",
    "    min_y, max_y = np.min(y), np.max(y)\n",
    "    min_z, max_z = np.min(z), np.max(z)\n",
    "    \n",
    "    colors = z_values\n",
    "    cmap = plt.colormaps.get_cmap('nipy_spectral')\n",
    "    size = 20\n",
    "    edgecolors='k'\n",
    "    \n",
    "    plt.figure(figsize=(10, 6))\n",
    "    if plane == 'yz':\n",
    "        plt.scatter(y, z, c=colors, cmap=cmap, s=size, edgecolors=edgecolors)\n",
    "        plt.xlim(min_y - 1, max_y + 1)\n",
    "        plt.ylim(min_z - 1, max_z + 1)\n",
    "        plt.xlabel('Y-Axis')\n",
    "        plt.ylabel('Z-Axis')\n",
    "    elif plane == 'xz':\n",
    "        plt.scatter(x, z, c=colors, cmap=cmap, s=size, edgecolors=edgecolors)\n",
    "        plt.xlim(min_x - 1, max_x + 1)\n",
    "        plt.ylim(min_z - 1, max_z + 1)\n",
    "        plt.xlabel('X-Axis')\n",
    "        plt.ylabel('Z-Axis')\n",
    "    elif plane == 'xy':\n",
    "        plt.scatter(x, y, c=colors, cmap=cmap, s=size, edgecolors=edgecolors)\n",
    "        plt.xlim(min_x - 1, max_x + 1)\n",
    "        plt.ylim(min_y - 1, max_y + 1)\n",
    "        plt.xlabel('X-Axis')\n",
    "        plt.ylabel('Y-Axis')\n",
    "    plt.grid(True)\n",
    "    plt.show()"
   ]
  },
  {
   "cell_type": "markdown",
   "id": "a20aa6d3",
   "metadata": {},
   "source": [
    "## Ground Map Logic implementation"
   ]
  },
  {
   "cell_type": "code",
   "execution_count": 100,
   "id": "031262df",
   "metadata": {},
   "outputs": [],
   "source": [
    "ply_frame = '/home/maanz/Downloads/DGV/LidarPipeline_runs/hamburg/maps/ground_map.ply'"
   ]
  },
  {
   "cell_type": "code",
   "execution_count": 101,
   "id": "64b2cbe4",
   "metadata": {},
   "outputs": [],
   "source": [
    "RADIUS = 0.5\n",
    "NBS = 10\n",
    "ANG = 20"
   ]
  },
  {
   "cell_type": "code",
   "execution_count": 102,
   "id": "87f62cc5",
   "metadata": {},
   "outputs": [],
   "source": [
    "def flow(ply_frame):\n",
    "    \n",
    "    INLIER, OUTLIER = normals_filter(ply_frame, RADIUS, NBS, ANG)\n",
    "    \n",
    "    return INLIER, OUTLIER\n"
   ]
  },
  {
   "cell_type": "code",
   "execution_count": 103,
   "id": "e4329e4d",
   "metadata": {},
   "outputs": [],
   "source": [
    "Inlier, Outlier = flow(ply_frame)"
   ]
  },
  {
   "cell_type": "code",
   "execution_count": 104,
   "id": "91a02095",
   "metadata": {},
   "outputs": [],
   "source": [
    "# inlier_pcd = '/home/maanz/Downloads/DGV/LidarPipeline_runs/test/inlier_pcd.pcd'\n",
    "# outlier_pcd = '/home/maanz/Downloads/DGV/LidarPipeline_runs/test/outlier_pcd.pcd'\n",
    "\n",
    "# o3d.io.write_point_cloud(inlier_pcd, Inlier)\n",
    "# o3d.io.write_point_cloud(outlier_pcd, Outlier)"
   ]
  },
  {
   "cell_type": "code",
   "execution_count": 108,
   "id": "b80f56a0",
   "metadata": {},
   "outputs": [
    {
     "name": "stdout",
     "output_type": "stream",
     "text": [
      "[PointCloud with 2082689 points., PointCloud with 1230769 points.]\n"
     ]
    }
   ],
   "source": [
    "visualize_clouds(Inlier, Outlier, True)"
   ]
  },
  {
   "cell_type": "markdown",
   "id": "cf5a1e23",
   "metadata": {},
   "source": [
    "## Single Frame Processing"
   ]
  },
  {
   "cell_type": "code",
   "execution_count": 113,
   "id": "43dc13be",
   "metadata": {},
   "outputs": [],
   "source": [
    "input_frame = '/home/maanz/Downloads/DGV/LidarPipeline_runs/hamburg/preprocessed/frames/1693307422625278301.ply'\n",
    "# input_pcd = pyntcloud_to_open3d(input_frame)"
   ]
  },
  {
   "cell_type": "code",
   "execution_count": 115,
   "id": "f07a5878",
   "metadata": {},
   "outputs": [],
   "source": [
    "inlier_cloud, outlier_cloud = segment_plane(input_frame, 0.5, 6, 1000)"
   ]
  },
  {
   "cell_type": "code",
   "execution_count": 117,
   "id": "9df30217",
   "metadata": {},
   "outputs": [],
   "source": [
    "visualize_clouds(inlier_cloud, outlier_cloud, False)"
   ]
  },
  {
   "cell_type": "code",
   "execution_count": 119,
   "id": "e90e968a",
   "metadata": {},
   "outputs": [],
   "source": [
    "inlier_nor_cloud, outlier_nor_cloud = normals_filter(inlier_cloud, 0.1, 8, 10, '+z')"
   ]
  },
  {
   "cell_type": "code",
   "execution_count": 121,
   "id": "40782f8e",
   "metadata": {},
   "outputs": [],
   "source": [
    "visualize_clouds(inlier_nor_cloud, outlier_nor_cloud, False)"
   ]
  },
  {
   "cell_type": "code",
   "execution_count": null,
   "id": "6341a344",
   "metadata": {},
   "outputs": [],
   "source": []
  }
 ],
 "metadata": {
  "kernelspec": {
   "display_name": "kiss-icp-env",
   "language": "python",
   "name": "kiss-icp-env"
  },
  "language_info": {
   "codemirror_mode": {
    "name": "ipython",
    "version": 3
   },
   "file_extension": ".py",
   "mimetype": "text/x-python",
   "name": "python",
   "nbconvert_exporter": "python",
   "pygments_lexer": "ipython3",
   "version": "3.8.18"
  }
 },
 "nbformat": 4,
 "nbformat_minor": 5
}
