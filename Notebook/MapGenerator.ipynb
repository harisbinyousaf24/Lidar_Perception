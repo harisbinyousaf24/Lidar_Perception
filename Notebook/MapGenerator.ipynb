{
 "cells": [
  {
   "cell_type": "code",
   "execution_count": 56,
   "id": "4b422a29",
   "metadata": {},
   "outputs": [],
   "source": [
    "from pyntcloud import PyntCloud\n",
    "from tqdm import tqdm\n",
    "import open3d as o3d\n",
    "import numpy as np\n",
    "import os\n",
    "import pandas as pd\n",
    "import matplotlib.pyplot as plt\n",
    "from matplotlib.colors import Normalize"
   ]
  },
  {
   "cell_type": "code",
   "execution_count": 57,
   "id": "5ad4fa46",
   "metadata": {},
   "outputs": [],
   "source": [
    "frames_dir = '/home/ty/Downloads/AAI/Lane_Marking_Execution/hamburg/preprocessed/frames'\n",
    "tf_poses = '/home/ty/Downloads/AAI/Lane_Marking_Execution/hamburg/trajectory_transformed/tf_poses.npy'\n"
   ]
  },
  {
   "cell_type": "code",
   "execution_count": 58,
   "id": "cbbfd56d",
   "metadata": {},
   "outputs": [],
   "source": [
    "def load_states(file):\n",
    "    data = np.load(file)\n",
    "    translations = []\n",
    "    for tf in data:\n",
    "        translation = tf[:3, 3]\n",
    "        translations.append(translation)\n",
    "        \n",
    "    return data, np.array(translations)"
   ]
  },
  {
   "cell_type": "code",
   "execution_count": 59,
   "id": "b9e04e68",
   "metadata": {},
   "outputs": [],
   "source": [
    "poses, translations = load_states(tf_poses)"
   ]
  },
  {
   "cell_type": "code",
   "execution_count": 60,
   "id": "fbab849f",
   "metadata": {},
   "outputs": [
    {
     "name": "stdout",
     "output_type": "stream",
     "text": [
      "190\n",
      "(190, 3)\n"
     ]
    }
   ],
   "source": [
    "print(len(poses))\n",
    "print(translations.shape)"
   ]
  },
  {
   "cell_type": "code",
   "execution_count": 76,
   "id": "6f6dcc89",
   "metadata": {},
   "outputs": [],
   "source": [
    "def read_point_cloud(file_or_cloud):\n",
    "    if isinstance(file_or_cloud, PyntCloud):\n",
    "        return file_or_cloud\n",
    "    elif isinstance(file_or_cloud, str):\n",
    "        cloud = PyntCloud.from_file(file_or_cloud)\n",
    "        return cloud\n",
    "    else:\n",
    "        raise ValueError(\"Input must be a file path (str) or a Point Cloud object.\")"
   ]
  },
  {
   "cell_type": "code",
   "execution_count": 77,
   "id": "e8255593",
   "metadata": {},
   "outputs": [],
   "source": [
    "def pyntcloud_to_open3d(file_or_cloud):\n",
    "    cloud = read_point_cloud(file_or_cloud)\n",
    "    cloud_pts = cloud.points[['x', 'y', 'z', 'intensity']].values\n",
    "    \n",
    "    xyz = cloud_pts[:, :3]\n",
    "    open3d_cloud = o3d.geometry.PointCloud()\n",
    "    open3d_cloud.points = o3d.utility.Vector3dVector(xyz)\n",
    "    return open3d_cloud"
   ]
  },
  {
   "cell_type": "code",
   "execution_count": 85,
   "id": "77148b39",
   "metadata": {},
   "outputs": [],
   "source": [
    "# def visualize_multiple_pcds(*pcds):\n",
    "#     clouds = [pcd for pcd in pcds]\n",
    "#     o3d.visualization.draw_geometries(clouds)"
   ]
  },
  {
   "cell_type": "code",
   "execution_count": 95,
   "id": "3cb14c39",
   "metadata": {},
   "outputs": [],
   "source": [
    "# def color_pcd(pcd, clr='r'):\n",
    "#     if clr == 'r':\n",
    "#         color = [1, 0, 0]\n",
    "#         pcd.paint_uniform_color(color)\n",
    "#     elif clr == 'g':\n",
    "#         color = [0, 1, 0]\n",
    "#         pcd.paint_uniform_color(color)\n",
    "#     elif clr == 'b':\n",
    "#         color = [0, 0, 1]\n",
    "#         pcd.paint_uniform_color(color)\n",
    "\n",
    "#     return pcd"
   ]
  },
  {
   "cell_type": "code",
   "execution_count": 98,
   "id": "2807029c",
   "metadata": {},
   "outputs": [],
   "source": [
    "def apply_radial_filter(obj, radius):\n",
    "    cloud = read_point_cloud(obj)\n",
    "    pcd = pyntcloud_to_open3d(obj)\n",
    "    cloud_df = cloud.points\n",
    "    distances = np.linalg.norm(np.asarray(pcd.points), axis=1)\n",
    "    mask = distances <= radius\n",
    "    \n",
    "    inlier_points_df = cloud_df[mask]\n",
    "    outlier_points_df = cloud_df[~mask]\n",
    "    \n",
    "    # Convert filtered DataFrames back to PyntClouds\n",
    "    inlier_cloud = PyntCloud(inlier_points_df)\n",
    "    outlier_cloud = PyntCloud(outlier_points_df)\n",
    "    \n",
    "    return inlier_cloud, outlier_cloud\n",
    "    "
   ]
  },
  {
   "cell_type": "code",
   "execution_count": 91,
   "id": "0d40d903",
   "metadata": {},
   "outputs": [],
   "source": [
    "def plane_segmentation_mask(obj, dist_thresh, ransac_n, num_iters):\n",
    "    cloud = read_point_cloud(obj)\n",
    "    pcd = pyntcloud_to_open3d(obj)\n",
    "    cloud_df = cloud.points\n",
    "    \n",
    "    # Apply plane segmentation\n",
    "    plane_model, inliers = pcd.segment_plane(distance_threshold=dist_thresh,\n",
    "                                             ransac_n=ransac_n,\n",
    "                                             num_iterations=num_iters)\n",
    "    \n",
    "    # Create a mask for inliers\n",
    "    inlier_mask = np.zeros(len(pcd.points), dtype=bool)\n",
    "    inlier_mask[inliers] = True\n",
    "    \n",
    "    # Filtering inlier points based on the mask\n",
    "    inlier_points_df = cloud_df[inlier_mask]\n",
    "    outlier_points_df = cloud_df[~inlier_mask]\n",
    "    \n",
    "    # Convert filtered DataFrames back to PyntClouds\n",
    "    inlier_cloud = PyntCloud(inlier_points_df)\n",
    "    outlier_cloud = PyntCloud(outlier_points_df)\n",
    "    \n",
    "    return inlier_cloud, outlier_cloud\n",
    "    "
   ]
  },
  {
   "cell_type": "code",
   "execution_count": 99,
   "id": "b98cbd34",
   "metadata": {},
   "outputs": [],
   "source": [
    "test_ply_file = '/home/ty/Downloads/AAI/Lane_Marking_Execution/hamburg/data/frames/1693307422024154166.ply'\n"
   ]
  },
  {
   "cell_type": "code",
   "execution_count": 102,
   "id": "c0616b8c",
   "metadata": {},
   "outputs": [],
   "source": [
    "inlier_cloud, outlier_cloud = apply_radial_filter(test_ply_file, 25)\n",
    "inlier_pcd = pyntcloud_to_open3d(inlier_cloud)\n",
    "outlier_pcd = pyntcloud_to_open3d(outlier_cloud)\n",
    "# print(type(inlier_pcd))\n",
    "# print(type(outlier_pcd))\n",
    "\n",
    "outlier_pcd = color_pcd(outlier_pcd, 'r')"
   ]
  },
  {
   "cell_type": "code",
   "execution_count": 103,
   "id": "8ed4377c",
   "metadata": {},
   "outputs": [],
   "source": [
    "visualize_multiple_pcds(inlier_pcd, outlier_pcd)"
   ]
  },
  {
   "cell_type": "code",
   "execution_count": 104,
   "id": "9d7b7bcd",
   "metadata": {},
   "outputs": [],
   "source": [
    "inlier_cloud, outlier_cloud = plane_segmentation_mask(inlier_cloud, \n",
    "                                                     0.1, ransac_n=10, num_iters=1000)\n",
    "\n",
    "inlier_pcd = pyntcloud_to_open3d(inlier_cloud)\n",
    "outlier_pcd = pyntcloud_to_open3d(outlier_cloud)\n",
    "# print(type(inlier_pcd))\n",
    "# print(type(outlier_pcd))\n",
    "\n",
    "outlier_pcd = color_pcd(outlier_pcd, 'r')\n",
    "\n"
   ]
  },
  {
   "cell_type": "code",
   "execution_count": 105,
   "id": "f0cc107a",
   "metadata": {},
   "outputs": [],
   "source": [
    "visualize_multiple_pcds(inlier_pcd, outlier_pcd)"
   ]
  },
  {
   "cell_type": "code",
   "execution_count": 61,
   "id": "aadf64b7",
   "metadata": {},
   "outputs": [],
   "source": [
    "def transform_frames(transformation_matrix, lidar_points):\n",
    "    # Convert lidar points to homogeneous coordinates\n",
    "    ones = np.ones((lidar_points.shape[0], 1))\n",
    "    homogeneous_points = np.hstack((lidar_points[:, :3], ones))\n",
    "\n",
    "    # Apply the transformation matrix\n",
    "    transformed_points = transformation_matrix @ homogeneous_points.T\n",
    "\n",
    "    # Convert back to Cartesian coordinates\n",
    "    transformed_points = transformed_points.T[:, :3]\n",
    "\n",
    "    # Append intensity back to the transformed points\n",
    "    if lidar_points.shape[1] == 4:\n",
    "        transformed_points = np.hstack((transformed_points, lidar_points[:, 3].reshape(-1, 1)))\n",
    "\n",
    "    return transformed_points"
   ]
  },
  {
   "cell_type": "code",
   "execution_count": 62,
   "id": "8c7783e9",
   "metadata": {},
   "outputs": [],
   "source": [
    "def generate_map(tf_poses, lidar_frames_dir):\n",
    "    frames = sorted(os.path.join(lidar_frames_dir, file_name) for file_name in os.listdir(lidar_frames_dir) if\n",
    "                        file_name.endswith('.ply'))\n",
    "    \n",
    "    assert len(tf_poses) == len(\n",
    "            frames), f\"Mismatch between length of poses {len(tf_poses)} and length of lidar frames {len(frames)}\"\n",
    "    \n",
    "    tf_frame = []\n",
    "#     tf_ground = []\n",
    "    for idx, file in tqdm(enumerate(frames), desc='Generating Maps: ', total=len(frames)):\n",
    "        file_path = frames[idx]\n",
    "        cloud = PyntCloud.from_file(file_path)\n",
    "        org_points = cloud.points.values\n",
    "        tf_pose = tf_poses[idx]\n",
    "        tf_points = transform_frames(tf_pose, org_points)\n",
    "        tf_frame.append(tf_points)\n",
    "    tf_map = np.vstack(tf_frame)\n",
    "    \n",
    "    return tf_map, tf_ground\n",
    "    "
   ]
  },
  {
   "cell_type": "code",
   "execution_count": null,
   "id": "abc00ae2",
   "metadata": {},
   "outputs": [],
   "source": [
    "def generate_ground_map(tf_poses, lidar_frames_dir, dist_thresh, ransac_n, num_iters):\n",
    "    frames = sorted(os.path.join(lidar_frames_dir, file_name) for file_name in os.listdir(lidar_frames_dir) if\n",
    "                        file_name.endswith('.ply'))\n",
    "    \n",
    "    assert len(tf_poses) == len(\n",
    "            frames), f\"Mismatch between length of poses {len(tf_poses)} and length of lidar frames {len(frames)}\"\n",
    "    \n",
    "    tf_ground = []\n",
    "    for idx, file in tqdm(enumerate(frames), desc='Generating Ground Map: ', total=len(frames)):\n",
    "        file_path = frames[idx]\n",
    "        cloud = PyntCloud.from_file(file_path)\n",
    "        ground_cloud, _ = plane_segmentation_mask(cloud, dist_thresh, ransac_n, num_iters)\n",
    "        ground_points = ground_cloud.points.values\n",
    "        tf_pose = tf_poses[idx]\n",
    "        tf_ground_points = transform_frames(tf_pose, ground_points)\n",
    "        tf_ground.append(tf_ground_points)\n",
    "        \n",
    "    tf_ground = np.vstack(tf_ground)\n",
    "    \n",
    "    return tf_ground\n",
    "    "
   ]
  },
  {
   "cell_type": "code",
   "execution_count": 63,
   "id": "ed829ebc",
   "metadata": {},
   "outputs": [
    {
     "name": "stderr",
     "output_type": "stream",
     "text": [
      "Generating Map: 100%|█████████████████████████| 190/190 [00:04<00:00, 42.35it/s]\n"
     ]
    }
   ],
   "source": [
    "tf_map = generate_map(poses, frames_dir)"
   ]
  },
  {
   "cell_type": "code",
   "execution_count": 73,
   "id": "238aa841",
   "metadata": {},
   "outputs": [],
   "source": [
    "def write_maps(tf_map, tf_ground_map, map_file_path, colored_map=True):\n",
    "    map_cloud = PyntCloud(pd.DataFrame(tf_map, columns=['x', 'y', 'z', 'intensity']))\n",
    "    map_cloud.to_file(map_file_path)\n",
    "    print(f\"Map file saved to {map_file_path}\")\n",
    "    ground_cloud = PyntCloud(pd.DataFrame(tf_ground_map, columns=['x', 'y', 'z', 'intensity']))\n",
    "    ground_cloud.to_file(ground_map_file_path)\n",
    "    print(f\"Ground Map file saved to {ground_map_file_path}\")\n",
    "    if colored_map:\n",
    "        z_values = tf_map[:, 2]\n",
    "        \n",
    "        norm = Normalize(vmin=np.min(z_values), \n",
    "                         vmax=np.max(z_values))\n",
    "        \n",
    "        colors = plt.cm.nipy_spectral(norm(z_values))[:, :3]\n",
    "#         print(colors.shape)\n",
    "        # Combine coordinates and colors\n",
    "        data = np.hstack((tf_map[:, :3], colors))\n",
    "        columns = [\"x\", \"y\", \"z\", \"red\", \"green\", \"blue\"]\n",
    "        \n",
    "        # Create a DataFrame and a new PyntCloud for the colored map\n",
    "        colored_cloud = PyntCloud(pd.DataFrame(data, columns=columns))\n",
    "        \n",
    "        # Construct the file path for the colored map\n",
    "        file_name = os.path.basename(os.path.splitext(map_file_path)[0]) + '_colored.ply'\n",
    "        dir_path = os.path.dirname(map_file_path)\n",
    "        file_path = os.path.join(dir_path, file_name)\n",
    "        \n",
    "        # Save the colored point cloud to a .ply file\n",
    "        colored_cloud.to_file(file_path)\n",
    "        print(f\"Colored Map file saved to {file_path}\")\n",
    "        "
   ]
  },
  {
   "cell_type": "code",
   "execution_count": 74,
   "id": "cfafa806",
   "metadata": {},
   "outputs": [],
   "source": [
    "map_file_path = '/home/ty/Downloads/AAI/test/map.ply'"
   ]
  },
  {
   "cell_type": "code",
   "execution_count": 75,
   "id": "926874e9",
   "metadata": {},
   "outputs": [
    {
     "name": "stdout",
     "output_type": "stream",
     "text": [
      "Map file saved to /home/ty/Downloads/AAI/test/map.ply\n",
      "Colored Map file saved to /home/ty/Downloads/AAI/test/map_colored.ply\n"
     ]
    }
   ],
   "source": [
    "write_maps(tf_map, map_file_path, True)"
   ]
  },
  {
   "cell_type": "code",
   "execution_count": null,
   "id": "19c2c884",
   "metadata": {},
   "outputs": [],
   "source": []
  }
 ],
 "metadata": {
  "kernelspec": {
   "display_name": "kiss-icp-env",
   "language": "python",
   "name": "kiss-icp-env"
  },
  "language_info": {
   "codemirror_mode": {
    "name": "ipython",
    "version": 3
   },
   "file_extension": ".py",
   "mimetype": "text/x-python",
   "name": "python",
   "nbconvert_exporter": "python",
   "pygments_lexer": "ipython3",
   "version": "3.8.18"
  }
 },
 "nbformat": 4,
 "nbformat_minor": 5
}
