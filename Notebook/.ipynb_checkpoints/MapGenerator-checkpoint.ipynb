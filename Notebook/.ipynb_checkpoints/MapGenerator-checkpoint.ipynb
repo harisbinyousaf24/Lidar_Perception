{
 "cells": [
  {
   "cell_type": "code",
   "execution_count": 56,
   "id": "4b422a29",
   "metadata": {},
   "outputs": [],
   "source": [
    "from pyntcloud import PyntCloud\n",
    "from tqdm import tqdm\n",
    "import open3d as o3d\n",
    "import numpy as np\n",
    "import os\n",
    "import pandas as pd\n",
    "import matplotlib.pyplot as plt\n",
    "from matplotlib.colors import Normalize"
   ]
  },
  {
   "cell_type": "code",
   "execution_count": 57,
   "id": "5ad4fa46",
   "metadata": {},
   "outputs": [],
   "source": [
    "frames_dir = '/home/ty/Downloads/AAI/Lane_Marking_Execution/hamburg/preprocessed/frames'\n",
    "tf_poses = '/home/ty/Downloads/AAI/Lane_Marking_Execution/hamburg/trajectory_transformed/tf_poses.npy'\n"
   ]
  },
  {
   "cell_type": "code",
   "execution_count": 58,
   "id": "cbbfd56d",
   "metadata": {},
   "outputs": [],
   "source": [
    "def load_states(file):\n",
    "    data = np.load(file)\n",
    "    translations = []\n",
    "    for tf in data:\n",
    "        translation = tf[:3, 3]\n",
    "        translations.append(translation)\n",
    "        \n",
    "    return data, np.array(translations)"
   ]
  },
  {
   "cell_type": "code",
   "execution_count": 59,
   "id": "b9e04e68",
   "metadata": {},
   "outputs": [],
   "source": [
    "poses, translations = load_states(tf_poses)"
   ]
  },
  {
   "cell_type": "code",
   "execution_count": 60,
   "id": "fbab849f",
   "metadata": {},
   "outputs": [
    {
     "name": "stdout",
     "output_type": "stream",
     "text": [
      "190\n",
      "(190, 3)\n"
     ]
    }
   ],
   "source": [
    "print(len(poses))\n",
    "print(translations.shape)"
   ]
  },
  {
   "cell_type": "code",
   "execution_count": 76,
   "id": "44b654d5",
   "metadata": {},
   "outputs": [],
   "source": [
    "def read_point_cloud(file_or_cloud):\n",
    "    if isinstance(file_or_cloud, PyntCloud):\n",
    "        return file_or_cloud\n",
    "    elif isinstance(file_or_cloud, str):\n",
    "        cloud = PyntCloud.from_file(file_or_cloud)\n",
    "        return cloud\n",
    "    else:\n",
    "        raise ValueError(\"Input must be a file path (str) or a Point Cloud object.\")"
   ]
  },
  {
   "cell_type": "code",
   "execution_count": null,
   "id": "3d71f2a1",
   "metadata": {},
   "outputs": [],
   "source": [
    "def z_filter(file, z_range):\n",
    "    z_min, z_max = z_range\n",
    "    pcd = read_point_cloud(file)\n",
    "    points_df = pcd.points\n",
    "    points = points_df.values\n",
    "    \n",
    "    z_axis = points[:, 2]\n",
    "    z_mask = np.logical_and(z_axis >= z_min, z_axis <= z_max)\n",
    "    \n",
    "    # Filtering inlier points based on the mask\n",
    "    inlier_points_df = points_df[z_mask]\n",
    "    outlier_points_df = points_df[~z_mask]\n",
    "    \n",
    "    # Convert filtered DataFrames back to PyntClouds\n",
    "    inlier_cloud = PyntCloud(inlier_points_df)\n",
    "    outlier_cloud = PyntCloud(outlier_points_df)\n",
    "    \n",
    "    return inlier_cloud, outlier_cloud"
   ]
  },
  {
   "cell_type": "code",
   "execution_count": null,
   "id": "9895aad3",
   "metadata": {},
   "outputs": [],
   "source": []
  },
  {
   "cell_type": "code",
   "execution_count": 61,
   "id": "aadf64b7",
   "metadata": {},
   "outputs": [],
   "source": [
    "def transform_frames(transformation_matrix, lidar_points):\n",
    "    # Convert lidar points to homogeneous coordinates\n",
    "    ones = np.ones((lidar_points.shape[0], 1))\n",
    "    homogeneous_points = np.hstack((lidar_points[:, :3], ones))\n",
    "\n",
    "    # Apply the transformation matrix\n",
    "    transformed_points = transformation_matrix @ homogeneous_points.T\n",
    "\n",
    "    # Convert back to Cartesian coordinates\n",
    "    transformed_points = transformed_points.T[:, :3]\n",
    "\n",
    "    # Append intensity back to the transformed points\n",
    "    if lidar_points.shape[1] == 4:\n",
    "        transformed_points = np.hstack((transformed_points, lidar_points[:, 3].reshape(-1, 1)))\n",
    "\n",
    "    return transformed_points"
   ]
  },
  {
   "cell_type": "code",
   "execution_count": 62,
   "id": "8c7783e9",
   "metadata": {},
   "outputs": [],
   "source": [
    "def generate_map(tf_poses, lidar_frames_dir, road_map=True):\n",
    "    frames = sorted(os.path.join(lidar_frames_dir, file_name) for file_name in os.listdir(lidar_frames_dir) if\n",
    "                        file_name.endswith('.ply'))\n",
    "    \n",
    "    assert len(tf_poses) == len(\n",
    "            frames), f\"Mismatch between length of poses {len(tf_poses)} and length of lidar frames {len(frames)}\"\n",
    "    \n",
    "    tf_frame = []\n",
    "    for idx, file in tqdm(enumerate(frames), desc='Generating Map: ', total=len(frames)):\n",
    "        file_path = frames[idx]\n",
    "        cloud = PyntCloud.from_file(file_path)\n",
    "        points = cloud.points.values\n",
    "        \n",
    "        tf_pose = tf_poses[idx]\n",
    "        \n",
    "        tf_points = transform_frames(tf_pose, points)\n",
    "        tf_frame.append(tf_points)\n",
    "        \n",
    "    tf_map = np.vstack(tf_frame)\n",
    "    \n",
    "    return tf_map\n",
    "    "
   ]
  },
  {
   "cell_type": "code",
   "execution_count": 63,
   "id": "ed829ebc",
   "metadata": {},
   "outputs": [
    {
     "name": "stderr",
     "output_type": "stream",
     "text": [
      "Generating Map: 100%|█████████████████████████| 190/190 [00:04<00:00, 42.35it/s]\n"
     ]
    }
   ],
   "source": [
    "tf_map = generate_map(poses, frames_dir)"
   ]
  },
  {
   "cell_type": "code",
   "execution_count": 73,
   "id": "238aa841",
   "metadata": {},
   "outputs": [],
   "source": [
    "def write_maps(tf_map, map_file_path, colored_map=True):\n",
    "    cloud = PyntCloud(pd.DataFrame(tf_map, columns=['x', 'y', 'z', 'intensity']))\n",
    "    cloud.to_file(map_file_path)\n",
    "    print(f\"Map file saved to {map_file_path}\")\n",
    "    if colored_map:\n",
    "        z_values = tf_map[:, 2]\n",
    "        \n",
    "        norm = Normalize(vmin=np.min(z_values), \n",
    "                         vmax=np.max(z_values))\n",
    "        \n",
    "        colors = plt.cm.nipy_spectral(norm(z_values))[:, :3]\n",
    "#         print(colors.shape)\n",
    "        # Combine coordinates and colors\n",
    "        data = np.hstack((tf_map[:, :3], colors))\n",
    "        columns = [\"x\", \"y\", \"z\", \"red\", \"green\", \"blue\"]\n",
    "        \n",
    "        # Create a DataFrame and a new PyntCloud for the colored map\n",
    "        colored_cloud = PyntCloud(pd.DataFrame(data, columns=columns))\n",
    "        \n",
    "        # Construct the file path for the colored map\n",
    "        file_name = os.path.basename(os.path.splitext(map_file_path)[0]) + '_colored.ply'\n",
    "        dir_path = os.path.dirname(map_file_path)\n",
    "        file_path = os.path.join(dir_path, file_name)\n",
    "        \n",
    "        # Save the colored point cloud to a .ply file\n",
    "        colored_cloud.to_file(file_path)\n",
    "        print(f\"Colored Map file saved to {file_path}\")\n",
    "        "
   ]
  },
  {
   "cell_type": "code",
   "execution_count": 74,
   "id": "cfafa806",
   "metadata": {},
   "outputs": [],
   "source": [
    "map_file_path = '/home/ty/Downloads/AAI/test/map.ply'"
   ]
  },
  {
   "cell_type": "code",
   "execution_count": 75,
   "id": "926874e9",
   "metadata": {},
   "outputs": [
    {
     "name": "stdout",
     "output_type": "stream",
     "text": [
      "Map file saved to /home/ty/Downloads/AAI/test/map.ply\n",
      "Colored Map file saved to /home/ty/Downloads/AAI/test/map_colored.ply\n"
     ]
    }
   ],
   "source": [
    "write_maps(tf_map, map_file_path, True)"
   ]
  },
  {
   "cell_type": "code",
   "execution_count": null,
   "id": "19c2c884",
   "metadata": {},
   "outputs": [],
   "source": []
  }
 ],
 "metadata": {
  "kernelspec": {
   "display_name": "kiss-icp-env",
   "language": "python",
   "name": "kiss-icp-env"
  },
  "language_info": {
   "codemirror_mode": {
    "name": "ipython",
    "version": 3
   },
   "file_extension": ".py",
   "mimetype": "text/x-python",
   "name": "python",
   "nbconvert_exporter": "python",
   "pygments_lexer": "ipython3",
   "version": "3.8.18"
  }
 },
 "nbformat": 4,
 "nbformat_minor": 5
}
