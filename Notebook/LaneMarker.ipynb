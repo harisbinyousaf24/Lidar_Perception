{
 "cells": [
  {
   "cell_type": "markdown",
   "id": "24269e19",
   "metadata": {},
   "source": [
    "1. Intensity Based filtering\n",
    "2. DBSCAN clustering\n",
    "3. Shape Fitting\n",
    "4. Geojson Creation"
   ]
  },
  {
   "cell_type": "code",
   "execution_count": 21,
   "id": "ea0b9a20",
   "metadata": {},
   "outputs": [],
   "source": [
    "import alphashape\n",
    "from scipy.stats import gaussian_kde\n",
    "from pyntcloud import PyntCloud\n",
    "import matplotlib.pyplot as plt\n",
    "import numpy as np\n",
    "import plotly.express as px\n",
    "from plyfile import PlyData\n",
    "import plotly.graph_objects as go\n",
    "import open3d as o3d\n",
    "import pandas as pd\n",
    "from shapely.geometry import Polygon, Point\n",
    "from tqdm import tqdm\n",
    "import utm\n",
    "import json"
   ]
  },
  {
   "cell_type": "code",
   "execution_count": 22,
   "id": "da927ac8",
   "metadata": {},
   "outputs": [],
   "source": [
    "ground_map = '/home/maanz/Downloads/DGV/LidarPipeline_runs/hamburg/maps/ground_map.ply'\n",
    "offset_file = '/home/maanz/Downloads/DGV/LidarPipeline_runs/hamburg/trajectory_transformed/conversion_offset.json'\n"
   ]
  },
  {
   "cell_type": "code",
   "execution_count": 23,
   "id": "92b5401e",
   "metadata": {},
   "outputs": [
    {
     "name": "stdout",
     "output_type": "stream",
     "text": [
      "{'utm_coords': [387118.53436412767, 5815549.486782843], 'zone_number': 33, 'zone_letter': 'U'}\n"
     ]
    }
   ],
   "source": [
    "with open(offset_file, 'r') as file:\n",
    "    offset = json.load(file)\n",
    "print(offset)"
   ]
  },
  {
   "cell_type": "code",
   "execution_count": 24,
   "id": "3e9f432f",
   "metadata": {},
   "outputs": [],
   "source": [
    "def read_point_cloud(file_or_cloud):\n",
    "    if isinstance(file_or_cloud, PyntCloud):\n",
    "        return file_or_cloud\n",
    "    elif isinstance(file_or_cloud, str):\n",
    "        cloud = PyntCloud.from_file(file_or_cloud)\n",
    "        return cloud\n",
    "    else:\n",
    "        raise ValueError(\"Input must be a file path (str) or a Point Cloud object.\")"
   ]
  },
  {
   "cell_type": "code",
   "execution_count": 25,
   "id": "0ac7f869",
   "metadata": {},
   "outputs": [
    {
     "name": "stdout",
     "output_type": "stream",
     "text": [
      "3316253\n"
     ]
    }
   ],
   "source": [
    "cloud = read_point_cloud(ground_map)\n",
    "points = cloud.points.values\n",
    "intensity = points[:, 3]\n",
    "print(len(intensity))"
   ]
  },
  {
   "cell_type": "code",
   "execution_count": 26,
   "id": "6d16794b",
   "metadata": {},
   "outputs": [],
   "source": [
    "def pyntcloud_to_open3d(file_or_cloud):\n",
    "    cloud = read_point_cloud(file_or_cloud)\n",
    "    cloud_pts = cloud.points[['x', 'y', 'z', 'intensity']].values\n",
    "    \n",
    "    xyz = cloud_pts[:, :3]\n",
    "    open3d_cloud = o3d.geometry.PointCloud()\n",
    "    open3d_cloud.points = o3d.utility.Vector3dVector(xyz)\n",
    "    return open3d_cloud"
   ]
  },
  {
   "cell_type": "code",
   "execution_count": 27,
   "id": "82271603",
   "metadata": {},
   "outputs": [],
   "source": [
    "def color_pcd(pcd, clr='r'):\n",
    "    if clr == 'r':\n",
    "        color = [1, 0, 0]\n",
    "        pcd.paint_uniform_color(color)\n",
    "    elif clr == 'g':\n",
    "        color = [0, 1, 0]\n",
    "        pcd.paint_uniform_color(color)\n",
    "    elif clr == 'b':\n",
    "        color = [0, 0, 1]\n",
    "        pcd.paint_uniform_color(color)\n",
    "        \n",
    "    return pcd"
   ]
  },
  {
   "cell_type": "code",
   "execution_count": 28,
   "id": "ff9e4550",
   "metadata": {},
   "outputs": [],
   "source": [
    "def visualize_multiple_pcds(*pcds):\n",
    "    clouds = [pcd for pcd in pcds]\n",
    "    o3d.visualization.draw_geometries(clouds)"
   ]
  },
  {
   "cell_type": "code",
   "execution_count": 29,
   "id": "f5a5cb76",
   "metadata": {},
   "outputs": [],
   "source": [
    "def intensity_stats(intensity):\n",
    "    intensity = intensity.flatten()\n",
    "    min_intensity, max_intensity = np.min(intensity), np.max(intensity)\n",
    "    mean_intensity = np.mean(intensity)\n",
    "    \n",
    "    std_dev = np.std(intensity)\n",
    "    return min_intensity, max_intensity, mean_intensity, std_dev"
   ]
  },
  {
   "cell_type": "code",
   "execution_count": 30,
   "id": "a7946000",
   "metadata": {},
   "outputs": [
    {
     "name": "stdout",
     "output_type": "stream",
     "text": [
      "Mean: 7.32788610458374\n",
      "Std Dev: 4.9103827476501465\n",
      "Min Intensity: 1.0\n",
      "Max Intensity: 255.0\n"
     ]
    }
   ],
   "source": [
    "min_intensity, max_intensity, mean_intensity, std_dev = intensity_stats(intensity)\n",
    "print(f\"Mean: {mean_intensity}\")\n",
    "print(f\"Std Dev: {std_dev}\")\n",
    "print(f\"Min Intensity: {min_intensity}\")\n",
    "print(f\"Max Intensity: {max_intensity}\")\n"
   ]
  },
  {
   "cell_type": "code",
   "execution_count": 140,
   "id": "b86fa0c9",
   "metadata": {},
   "outputs": [],
   "source": [
    "def plot_intensity_histogram(intensity, output_html):\n",
    "    \n",
    "    min_intensity, max_intensity, mean_intensity, std_dev = intensity_stats(intensity)\n",
    "    filter_lower_bound, filter_upper_bound = intensity_filter(intensity, 5)\n",
    "    # Calculate KDE\n",
    "    kde = gaussian_kde(intensity)\n",
    "    intensity_values = np.linspace(min_intensity, max_intensity, 1000)\n",
    "    density = kde(intensity_values)\n",
    "    \n",
    "    # Create the histogram\n",
    "    fig = go.Figure()\n",
    "    fig.add_trace(go.Histogram(\n",
    "        x=intensity,\n",
    "        nbinsx=80,\n",
    "        histnorm='probability density',\n",
    "        name='Histogram',\n",
    "        opacity=1\n",
    "    ))\n",
    "    \n",
    "    # Add KDE line\n",
    "    fig.add_trace(go.Scatter(\n",
    "        x=intensity_values,\n",
    "        y=density,\n",
    "        mode='lines',\n",
    "        name='KDE',\n",
    "        line=dict(color='red')\n",
    "    ))\n",
    "    \n",
    "    # Add mean and standard deviation lines\n",
    "    fig.add_trace(go.Scatter(\n",
    "        x=[mean_intensity, mean_intensity],\n",
    "        y=[0, max(density)],\n",
    "        mode='lines',\n",
    "        name='Mean',\n",
    "        line=dict(color='red', dash='dash')\n",
    "    ))\n",
    "    fig.add_trace(go.Scatter(\n",
    "        x=[mean_intensity + std_dev, mean_intensity + std_dev],\n",
    "        y=[0, max(density)],\n",
    "        mode='lines',\n",
    "        name='+1 std',\n",
    "        line=dict(color='green', dash='dash')\n",
    "    ))\n",
    "    fig.add_trace(go.Scatter(\n",
    "        x=[mean_intensity - std_dev, mean_intensity - std_dev],\n",
    "        y=[0, max(density)],\n",
    "        mode='lines',\n",
    "        name='-1 std',\n",
    "        line=dict(color='green', dash='dash')\n",
    "    ))\n",
    "    # Add shaded region for intensity filter\n",
    "    fig.add_trace(go.Scatter(\n",
    "        x=[filter_lower_bound, filter_lower_bound, filter_upper_bound, filter_upper_bound],\n",
    "        y=[0, max(density), max(density), 0],\n",
    "        fill='toself',\n",
    "        fillcolor='orange',\n",
    "        opacity=0.3,\n",
    "        line=dict(color='orange'),\n",
    "        name='Intensity Filter'\n",
    "    ))\n",
    "    # Update layout\n",
    "    fig.update_layout(\n",
    "        title='Histogram, KDE, and Standard Deviation of Intensity',\n",
    "        xaxis_title='Intensity',\n",
    "        yaxis_title='Density / Frequency',\n",
    "        xaxis=dict(tickmode='linear', dtick=10),\n",
    "        legend=dict(orientation='h', yanchor='bottom', y=1.02, xanchor='right', x=1)\n",
    "    )\n",
    "    \n",
    "    # Save the plot as an HTML file\n",
    "    fig.write_html(output_html)\n",
    "    print(f\"Histogram saved as {output_html}\")"
   ]
  },
  {
   "cell_type": "code",
   "execution_count": 141,
   "id": "236e48bd",
   "metadata": {},
   "outputs": [],
   "source": [
    "histogram_plot = '/home/ty/Downloads/AAI/test/intensity_histogram.html'"
   ]
  },
  {
   "cell_type": "code",
   "execution_count": 142,
   "id": "9a9e2d87",
   "metadata": {
    "scrolled": false
   },
   "outputs": [
    {
     "name": "stdout",
     "output_type": "stream",
     "text": [
      "Histogram saved as /home/ty/Downloads/AAI/test/intensity_histogram.html\n"
     ]
    }
   ],
   "source": [
    "plot_intensity_histogram(intensity, histogram_plot)"
   ]
  },
  {
   "cell_type": "code",
   "execution_count": 31,
   "id": "3a165373",
   "metadata": {},
   "outputs": [],
   "source": [
    "def intensity_filter(intensity, num_std):\n",
    "    _, _, mean_intensity, std_dev_intensity = intensity_stats(intensity)\n",
    "    lower_bound = int(mean_intensity + std_dev_intensity)\n",
    "    upper_bound = int(mean_intensity + (num_std * std_dev_intensity))\n",
    "    return lower_bound, upper_bound"
   ]
  },
  {
   "cell_type": "code",
   "execution_count": 32,
   "id": "89decb2b",
   "metadata": {},
   "outputs": [
    {
     "name": "stdout",
     "output_type": "stream",
     "text": [
      "Lower Bound: 12\n",
      "Upper bound: 31\n"
     ]
    }
   ],
   "source": [
    "lower_bound, upper_bound = intensity_filter(intensity, 5)\n",
    "print(f\"Lower Bound: {lower_bound}\")\n",
    "print(f\"Upper bound: {upper_bound}\")"
   ]
  },
  {
   "cell_type": "code",
   "execution_count": 36,
   "id": "a693cb29",
   "metadata": {},
   "outputs": [],
   "source": [
    "def apply_intensity_filter(map_file, filter_range):\n",
    "    lower, upper = filter_range\n",
    "    map_cloud = read_point_cloud(map_file)\n",
    "    map_df = map_cloud.points\n",
    "    map_points = map_df.values\n",
    "    \n",
    "    intensity_axis = map_points[:, 3]\n",
    "    intensity_mask = np.logical_and(intensity_axis >= lower, intensity_axis <= upper)\n",
    "    \n",
    "    inlier_points_df = map_df[intensity_mask]\n",
    "    outlier_points_df = map_df[~intensity_mask]\n",
    "    \n",
    "    # Convert filtered DataFrames back to PyntClouds\n",
    "    inlier_cloud = PyntCloud(inlier_points_df)\n",
    "    outlier_cloud = PyntCloud(outlier_points_df)\n",
    "    \n",
    "    return inlier_cloud, outlier_cloud\n",
    "    "
   ]
  },
  {
   "cell_type": "code",
   "execution_count": 37,
   "id": "b7b00e2a",
   "metadata": {},
   "outputs": [],
   "source": [
    "inlier_cloud, outlier_cloud = apply_intensity_filter(map_file=ground_map, \n",
    "                                                    filter_range=[lower_bound, upper_bound])"
   ]
  },
  {
   "cell_type": "code",
   "execution_count": 38,
   "id": "5f58fff1",
   "metadata": {},
   "outputs": [],
   "source": [
    "inlier_pcd = pyntcloud_to_open3d(inlier_cloud)\n",
    "outlier_pcd = pyntcloud_to_open3d(outlier_cloud)\n",
    "\n",
    "inlier_pcd = color_pcd(inlier_pcd, 'r')"
   ]
  },
  {
   "cell_type": "code",
   "execution_count": 39,
   "id": "2d51b83d",
   "metadata": {},
   "outputs": [],
   "source": [
    "visualize_multiple_pcds(inlier_pcd)"
   ]
  },
  {
   "cell_type": "code",
   "execution_count": 40,
   "id": "8137c173",
   "metadata": {},
   "outputs": [],
   "source": [
    "def apply_clustering(obj, eps, min_points, print_progress=True):\n",
    "    cloud = read_point_cloud(obj)\n",
    "    pcd = pyntcloud_to_open3d(obj)\n",
    "    cloud_df = cloud.points\n",
    "    \n",
    "    # Apply DBSCAN clustering\n",
    "    with o3d.utility.VerbosityContextManager(o3d.utility.VerbosityLevel.Debug) as cm:\n",
    "        labels = np.array(\n",
    "            pcd.cluster_dbscan(eps=eps, min_points=min_points, print_progress=print_progress))\n",
    "    \n",
    "    # Add labels to the DataFrame\n",
    "    cloud_df['cluster'] = labels\n",
    "    \n",
    "    clusters = []\n",
    "    noise_df = cloud_df[cloud_df['cluster'] == -1].copy()  # Noise points\n",
    "    noise_df.drop(columns=['cluster'], inplace=True)\n",
    "    noise_cloud = PyntCloud(noise_df)\n",
    "    \n",
    "    for label in np.unique(labels):\n",
    "        if label != -1:  # Skip noise points\n",
    "            mask = cloud_df['cluster'] == label\n",
    "            cluster_df = cloud_df[mask].copy()\n",
    "            cluster_df.drop(columns=['cluster'], inplace=True)\n",
    "            clusters.append(cluster_df)\n",
    "    \n",
    "    # Concatenate all clusters into a single DataFrame\n",
    "    clusters_df = pd.concat(clusters, ignore_index=True)\n",
    "    clusters_cloud = PyntCloud(clusters_df)\n",
    "    \n",
    "    return clusters, clusters_cloud, noise_cloud\n",
    "    "
   ]
  },
  {
   "cell_type": "code",
   "execution_count": 49,
   "id": "7323437a",
   "metadata": {
    "scrolled": true
   },
   "outputs": [
    {
     "name": "stdout",
     "output_type": "stream",
     "text": [
      "[Open3D DEBUG] Precompute neighbors.\n",
      "[Open3D DEBUG] Done Precompute neighbors.\n",
      "[Open3D DEBUG] Compute Clusters\n",
      "[Open3D DEBUG] Done Compute Clusters: 104\n"
     ]
    }
   ],
   "source": [
    "clusters_list, clusters, noise = apply_clustering(inlier_cloud, 1, 10, False)"
   ]
  },
  {
   "cell_type": "code",
   "execution_count": 50,
   "id": "78569c1e",
   "metadata": {},
   "outputs": [
    {
     "name": "stdout",
     "output_type": "stream",
     "text": [
      "Clustered markings saved at: /home/maanz/Downloads/DGV/LidarPipeline_runs/hamburg/clustered_markings.ply\n"
     ]
    }
   ],
   "source": [
    "clustered_markings = '/home/maanz/Downloads/DGV/LidarPipeline_runs/clustered_markings.ply'\n",
    "clusters.to_file(clustered_markings)\n",
    "print(f\"Clustered markings saved at: {clustered_markings}\")"
   ]
  },
  {
   "cell_type": "code",
   "execution_count": 51,
   "id": "fd031d27",
   "metadata": {},
   "outputs": [],
   "source": [
    "inlier_pcd = pyntcloud_to_open3d(clusters)\n",
    "outlier_pcd = pyntcloud_to_open3d(noise)\n",
    "\n",
    "outlier_pcd = color_pcd(outlier_pcd, 'r')"
   ]
  },
  {
   "cell_type": "code",
   "execution_count": 52,
   "id": "6730dbf0",
   "metadata": {},
   "outputs": [],
   "source": [
    "visualize_multiple_pcds(inlier_pcd, outlier_pcd)"
   ]
  },
  {
   "cell_type": "code",
   "execution_count": 53,
   "id": "6cfdaa3c",
   "metadata": {},
   "outputs": [],
   "source": [
    "test_cluster = PyntCloud(clusters_list[28])\n",
    "test_cluster_pcd = pyntcloud_to_open3d(test_cluster)\n",
    "visualize_multiple_pcds(test_cluster_pcd)"
   ]
  },
  {
   "cell_type": "code",
   "execution_count": 54,
   "id": "6f9a30db",
   "metadata": {},
   "outputs": [],
   "source": [
    "def compute_hulls(clusters_list, alpha=5):\n",
    "    hulls = []\n",
    "    for cluster in tqdm(clusters_list, desc=\"Computing Hulls...\", total=len(clusters_list)):\n",
    "        cloud_obj = PyntCloud(cluster)\n",
    "        cloud_points = cloud_obj.points.values\n",
    "        xy_pts = cloud_points[:, :2]\n",
    "        points = [Point(p[0], p[1]) for p in xy_pts] \n",
    "        points_tuples = [(p.x, p.y) for p in points]\n",
    "        try:\n",
    "            alpha_shape = alphashape.alphashape(points_tuples, alpha)\n",
    "\n",
    "            if alpha_shape.geom_type == 'Polygon':\n",
    "                boundary_points = list(alpha_shape.exterior.coords)\n",
    "                hulls.append(boundary_points)\n",
    "            else:\n",
    "                for geom in alpha_shape.geoms:\n",
    "                    boundary_points = list(geom.exterior.coords)\n",
    "                    hulls.append(boundary_points)\n",
    "        except Exception as e:\n",
    "            print(f\"Error computing alpha shape: {e}\")\n",
    "            continue\n",
    "        \n",
    "    return hulls \n",
    "    "
   ]
  },
  {
   "cell_type": "code",
   "execution_count": 55,
   "id": "3dc0f31f",
   "metadata": {},
   "outputs": [
    {
     "name": "stderr",
     "output_type": "stream",
     "text": [
      "Computing Hulls...: 100%|█████████████████████| 104/104 [00:46<00:00,  2.26it/s]\n"
     ]
    }
   ],
   "source": [
    "hulls = compute_hulls(clusters_list, 3)"
   ]
  },
  {
   "cell_type": "code",
   "execution_count": 56,
   "id": "bbfb191b",
   "metadata": {},
   "outputs": [],
   "source": [
    "def convert_to_latlon(hulls_list, offset):\n",
    "\n",
    "    latlon_hulls = []\n",
    "    offset_arr, zone_num, zone_letter = offset['utm_coords'], offset['zone_number'], offset['zone_letter']\n",
    "    for hull in hulls_list:\n",
    "        latlon = []\n",
    "        for point in hull:\n",
    "            x, y = point\n",
    "            utm_local_x = x + offset_arr[0]\n",
    "            utm_local_y = y + offset_arr[1]\n",
    "            lat, lon = utm.to_latlon(utm_local_x, utm_local_y, zone_num, zone_letter)\n",
    "            latlon.append([lon, lat])\n",
    "            latlon_matrix = np.array(latlon)\n",
    "        latlon_hulls.append(latlon_matrix)\n",
    "\n",
    "    return latlon_hulls"
   ]
  },
  {
   "cell_type": "code",
   "execution_count": 57,
   "id": "2d4c2a31",
   "metadata": {},
   "outputs": [],
   "source": [
    "latlon_hulls = convert_to_latlon(hulls, offset)"
   ]
  },
  {
   "cell_type": "code",
   "execution_count": 58,
   "id": "6c7bd029",
   "metadata": {},
   "outputs": [],
   "source": [
    "def extract_geojson(latlon_hulls, output_file):\n",
    "    features = []\n",
    "    for i, hull in enumerate(latlon_hulls):\n",
    "        closed_hull = np.concatenate((hull, [hull[0]]))\n",
    "        feature = {\n",
    "            \"type\": \"Feature\",\n",
    "            \"geometry\": {\n",
    "                \"type\": \"Polygon\",\n",
    "                \"coordinates\": [closed_hull.tolist()]\n",
    "            },\n",
    "            \"properties\": {\"polygon\": i+1}\n",
    "        }\n",
    "        features.append(feature)\n",
    "\n",
    "    geojson = {\n",
    "        \"type\": \"FeatureCollection\",\n",
    "        \"features\": features\n",
    "    }\n",
    "    \n",
    "    with open(output_file, 'w') as file:\n",
    "        json.dump(geojson, file)\n",
    "\n",
    "    print(f\"GeoJSON data written to {output_file}\")"
   ]
  },
  {
   "cell_type": "code",
   "execution_count": 59,
   "id": "4d2f4118",
   "metadata": {},
   "outputs": [],
   "source": [
    "geojson_path = '/home/maanz/Downloads/DGV/LidarPipeline_runs/lane_markings_geojson.json'"
   ]
  },
  {
   "cell_type": "code",
   "execution_count": 60,
   "id": "15746971",
   "metadata": {},
   "outputs": [
    {
     "name": "stdout",
     "output_type": "stream",
     "text": [
      "GeoJSON data written to /home/maanz/Downloads/DGV/LidarPipeline_runs/lane_markings_geojson.json\n"
     ]
    }
   ],
   "source": [
    "extract_geojson(latlon_hulls, geojson_path)"
   ]
  },
  {
   "cell_type": "code",
   "execution_count": null,
   "id": "825f9eae",
   "metadata": {},
   "outputs": [],
   "source": []
  }
 ],
 "metadata": {
  "kernelspec": {
   "display_name": "kiss-icp-env",
   "language": "python",
   "name": "kiss-icp-env"
  },
  "language_info": {
   "codemirror_mode": {
    "name": "ipython",
    "version": 3
   },
   "file_extension": ".py",
   "mimetype": "text/x-python",
   "name": "python",
   "nbconvert_exporter": "python",
   "pygments_lexer": "ipython3",
   "version": "3.8.18"
  }
 },
 "nbformat": 4,
 "nbformat_minor": 5
}
